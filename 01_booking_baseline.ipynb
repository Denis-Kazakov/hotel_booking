{
 "cells": [
  {
   "cell_type": "markdown",
   "id": "0562a3c6-292b-4b1d-988c-526321040a57",
   "metadata": {},
   "source": [
    "# Hotel booking baseline\n",
    "An attempt to solve the problem through function calling without fine-tuning"
   ]
  },
  {
   "cell_type": "code",
   "execution_count": 39,
   "id": "819f26d9-51a9-4eae-9c41-4dc43bfc34ca",
   "metadata": {},
   "outputs": [],
   "source": [
    "import json\n",
    "import logging\n",
    "import requests\n",
    "from typing import Callable, Any\n",
    "from datetime import date\n",
    "\n",
    "from ollama import ChatResponse, chat\n",
    "from pydantic import BaseModel, Field\n",
    "\n",
    "from data_models import HotelData, AvailabilityRequest, AvailabilityResponse, BookingRequest, BookingResponse"
   ]
  },
  {
   "cell_type": "code",
   "execution_count": 40,
   "id": "12b8ae1a-abcf-498f-a5d9-6a1f43b4e1ed",
   "metadata": {},
   "outputs": [],
   "source": [
    "logging.basicConfig(level=logging.DEBUG)    "
   ]
  },
  {
   "cell_type": "code",
   "execution_count": 41,
   "id": "f0ccebd6-5c35-49c5-91a9-7faadc820996",
   "metadata": {},
   "outputs": [],
   "source": [
    "def get_hotels(city: str, checkin_date: date, checkout_date: date):\n",
    "    \"\"\"\n",
    "    Get data on all hotels available in a given city on given dates.\n",
    "    \n",
    "    Args:\n",
    "        city: City where available hotels should be found\n",
    "        checkin_date: Date when the user wants to check in (format: date from the datetime package)\n",
    "        checkout_date: Date when the user wants to check out (format: date from the datetime package)\n",
    "    \n",
    "    Returns:\n",
    "        JSON with the following keys:\n",
    "            success: a Boolean with value True if there are hotels with rooms available for booking in the given city on the given dates and False if no hotel rooms are available for booking\n",
    "            error_message: A string giving reasons, if any, for not fulfilling the request, e.g. city not found or no free rooms on the given dates or None if the search was successfull\n",
    "            available_hotels: a list where each element is a dictionary with the following keys:\n",
    "                name: hotel name\n",
    "                star_rating: star rating of the hotel (an integer between 1 and 5)\n",
    "                price: room price per night\n",
    "        \n",
    "    \"\"\"\n",
    "    api_url = 'http://127.0.0.1:8000/get_hotels'\n",
    "    headers = {\"Content-Type\": \"application/json\"}\n",
    "    response = requests.post(api_url,\n",
    "                         headers=headers,\n",
    "                         json={'city': city, 'checkin_date': checkin_date, 'checkout_date': checkout_date})\n",
    "    logging.debug(f'Response from the get_hotel endpoint: {response}')\n",
    "    return response.json()"
   ]
  },
  {
   "cell_type": "code",
   "execution_count": 42,
   "id": "bba22e79-2793-4394-9451-d5ad940ea652",
   "metadata": {},
   "outputs": [],
   "source": [
    "def book_hotel(name: str, city: str, checkin_date: date, checkout_date: date):\n",
    "    \"\"\"\n",
    "    Book a hotel room as per the user request.\n",
    "    \n",
    "    Args:\n",
    "        name: name of the hotel where a room should be booked\n",
    "        city: city the hotel is located\n",
    "        checkin_date: date when the user wants to check in\n",
    "        checkout_date: date when the user wants to check out\n",
    "    \n",
    "    Returns:\n",
    "        JSON with the following keys:\n",
    "            success: a Boolean with value True if booking was successful and False if not\n",
    "            message: string describing the outcome, e.g. confirming the booking or giving reasons for failure\n",
    "    \"\"\"\n",
    "    api_url = 'http://127.0.0.1:8000/book'\n",
    "    headers = {\"Content-Type\": \"application/json\"}\n",
    "    response = requests.post(api_url,\n",
    "                         headers=headers,\n",
    "                         json={'city': 'Moscow', 'name': name, 'checkin_date': checkin_date, 'checkout_date': checkout_date})\n",
    "    return response.json()"
   ]
  },
  {
   "cell_type": "code",
   "execution_count": 43,
   "id": "a109d035-b323-4e0d-9760-e347da67cca0",
   "metadata": {},
   "outputs": [],
   "source": [
    "available_functions = {\n",
    "    \"get_hotels\": get_hotels,\n",
    "    \"book_hotel\": book_hotel\n",
    "}"
   ]
  },
  {
   "cell_type": "code",
   "execution_count": 44,
   "id": "6b6d6f4d-f7c5-425c-9bdc-29ce1868c033",
   "metadata": {},
   "outputs": [],
   "source": [
    "class FunctionCall(BaseModel):\n",
    "    \"\"\"Single function call to be returned by an LLM\"\"\"\n",
    "    name: str = Field(..., description='Name of the function to be called')\n",
    "    arguments: dict[str, str | None] = Field(..., description='Arguments of the function to be called')"
   ]
  },
  {
   "cell_type": "code",
   "execution_count": 45,
   "id": "e484d285-5606-4230-ab6d-9e384635cbbc",
   "metadata": {},
   "outputs": [],
   "source": [
    "class FunctionCalls(BaseModel):\n",
    "    \"\"\"All function calls to be returned by an LLM to process a user's request\"\"\"\n",
    "    function_calls: list[FunctionCall] = Field(default=[], description='List of function calls returned by an LLM')\n",
    "    comment: str | None = Field(..., description='LLM comments on the data provided, for example pointing out to missing arguments')"
   ]
  },
  {
   "cell_type": "code",
   "execution_count": 46,
   "id": "7be3c6e0-3d49-41de-a4b7-dab4015a764a",
   "metadata": {},
   "outputs": [],
   "source": [
    "class BookingAgent:\n",
    "    def __init__(self, functions: dict[str, Callable], model_name: str, system_message_1: str, system_message_2: str):\n",
    "        self.functions = functions\n",
    "        self.model_name = model_name\n",
    "        self.system_message_1 = system_message_1\n",
    "        self.system_message_2 = system_message_2\n",
    "\n",
    "    def __call__(self, user_request: str):\n",
    "        \"\"\"Respond to user queries\"\"\"\n",
    "\n",
    "        # First call to an LLM\n",
    "        response: ChatResponse = chat(\n",
    "            self.model_name,\n",
    "            messages=[\n",
    "                {'role': 'system', 'content': self.system_message_1},\n",
    "                {'role': 'user', 'content': user_request}\n",
    "            ],\n",
    "            tools=list(self.functions.values()),\n",
    "            stream=False,\n",
    "            format=FunctionCalls.model_json_schema()\n",
    "        )\n",
    "        logging.info(f'Response from the first call to LLM: {response}')\n",
    "\n",
    "        # Function calls\n",
    "        llm_response = json.loads(response.message.content)\n",
    "        logging.debug(f'Parsed llm response: {llm_response}')\n",
    "        api_response = []\n",
    "        assistant_message = None\n",
    "        if llm_response.get('function_calls'):\n",
    "            try:\n",
    "                for function_call in llm_response['function_calls']:\n",
    "                    func_name = function_call['name']\n",
    "                    if func_name in self.functions:\n",
    "                        api_response.extend(\n",
    "                            [\n",
    "                                f'Response from function {func_name}:',\n",
    "                                str(self.functions[func_name](**function_call['arguments']))\n",
    "                            ]\n",
    "                        )\n",
    "            except Exception as e:\n",
    "                logging.error(f'Function calls failed with error: {str(e)}')\n",
    "                api_response = [llm_response.get('comment')]\n",
    "        else:\n",
    "            api_response = [llm_response.get('comment')]\n",
    "        logging.info(f'Response from the booking service API: {api_response}')\n",
    "        \n",
    "        # Second call to the LLM\n",
    "        prompt = f'''\n",
    "User request:\n",
    "{user_request}\n",
    "Response from the booking service API:\n",
    "{'/n'.join(api_response)}\n",
    "        '''\n",
    "        logging.debug(f'Prompt:\\n{prompt}')\n",
    "        response: ChatResponse = chat(\n",
    "            self.model_name,\n",
    "            messages=[\n",
    "                {'role': 'system', 'content': self.system_message_2},\n",
    "                {'role': 'user', 'content': prompt}\n",
    "            ],\n",
    "            stream=False\n",
    "        )\n",
    "        logging.info(f'Response from the second call to LLM: {response}')\n",
    "        return response.message.content"
   ]
  },
  {
   "cell_type": "code",
   "execution_count": 47,
   "id": "456e9b5a-b9cd-4ea7-a30e-443643ef8df1",
   "metadata": {},
   "outputs": [],
   "source": [
    "system_message_1 = '''You are a booking agent helping users to find available hotels or to book a room in a specific hotel. You accomplish this by calling relevant functions.\n",
    "\n",
    "**Crucially, you MUST ONLY use data provided DIRECTLY by the user.\n",
    "DO NOT invent any data or make any assumptions. \n",
    "If the user does not provide all the necessary information, return a JSON with an empty list of function calls and an explanation of the missing data.**\n",
    " \n",
    "If the user wants to book a room in a specific hotel, do not search for other options, just call the function for booking the room.\n",
    "\n",
    "**Your response MUST be valid JSON conforming to the following structure:**\n",
    "{\n",
    "    \"function_calls\": [\n",
    "        {\n",
    "            \"name\":\"function name\",\n",
    "            \"arguments\":{\n",
    "                \"arg1\": \"value1\",\n",
    "                \"arg2\": \"value2\"\n",
    "            }\n",
    "        }\n",
    "    ],\n",
    "    \"comment\": \"Explanation of missing data or success.\"\n",
    "}\n",
    "\n",
    "If the user request does not include all required parameters for the function call, return JSON with the above format containing an empty list of function calls and a comment explaining which data are missing.\n",
    "\n",
    "Example #1:\n",
    "User query: \"Book me a room in The Luxury Collection hotel, Guangzhou, from August 1, 2025 to August 7, 2025\".\n",
    "Response: {\n",
    "    \"function_calls\": [{\"name\":\"book_hotel\", \"arguments\":{\"city\":\"Guangzhou\", name: \"The Luxury Collection\", \"checkin_date\":\"2025-08-01\", \"checkout_date\":\"2025-08-07\"}}],\n",
    "    \"comment\": \"\"\n",
    "}\n",
    "\n",
    "Example #2:\n",
    "User query: \"Find me hotels in Tokio\".\n",
    "Response: {\n",
    "    \"function_calls\": [],\n",
    "    \"comment\": \"Missing checkin and checkout date\"\n",
    "}\n",
    "\n",
    "Example #3:\n",
    "User query: \"Which hotels are available in Seoul between August 1, 2025 and August 2, 2025\".\n",
    "Response: {\n",
    "    \"function_calls\": [{\"name\":\"get_hotels\", \"arguments\":{\"city\":\"Seoul\", \"checkin_date\":\"2025-08-01\", \"checkout_date\":\"2025-08-02\"}}],\n",
    "    \"comment\": \"\"\n",
    "}\n",
    "\n",
    "\n",
    "Example #4:\n",
    "User query: \"Find me a hotel in London after September 1, 2026\".\n",
    "Response: {\n",
    "    \"function_calls\": [],\n",
    "    \"comment\": \"Missing checkout date\"\n",
    "}\n",
    "\n",
    "\n",
    "'''\n",
    "system_message_2 = '''You are a booking agent helping users to find available hotels or to book a room in a hotel.\n",
    "The user request was forwarded to the booking service API and it returned a response.\n",
    "\n",
    "**Crucially, you MUST ONLY use data provided IN THE API RESPONSE.  DO NOT invent any data or make any assumptions. If there is no response, inform the user that the service is not available.**\n",
    "\n",
    "Answer questions and requests disrelated to your tasks by decribing the tasks you are suppposed to accomplish.\n",
    "'''"
   ]
  },
  {
   "cell_type": "code",
   "execution_count": 48,
   "id": "d5a8371b-255a-474c-9363-f93f1a4393ba",
   "metadata": {},
   "outputs": [],
   "source": [
    "booking_agent = BookingAgent(\n",
    "    functions=available_functions,\n",
    "    model_name='mistral',\n",
    "    system_message_1=system_message_1,\n",
    "    system_message_2=system_message_2\n",
    ")"
   ]
  },
  {
   "cell_type": "markdown",
   "id": "96610239-3bb1-4b43-b054-4f917b345aa1",
   "metadata": {},
   "source": [
    "Valid request to find hotels:"
   ]
  },
  {
   "cell_type": "code",
   "execution_count": 49,
   "id": "7ac38fb0-df13-40a0-8d3e-2cbabdeca1c3",
   "metadata": {
    "scrolled": true
   },
   "outputs": [
    {
     "name": "stderr",
     "output_type": "stream",
     "text": [
      "DEBUG:httpcore.connection:close.started\n",
      "DEBUG:httpcore.connection:close.complete\n",
      "DEBUG:httpcore.connection:connect_tcp.started host='127.0.0.1' port=11434 local_address=None timeout=None socket_options=None\n",
      "DEBUG:httpcore.connection:connect_tcp.complete return_value=<httpcore._backends.sync.SyncStream object at 0x79ebba6016e0>\n",
      "DEBUG:httpcore.http11:send_request_headers.started request=<Request [b'POST']>\n",
      "DEBUG:httpcore.http11:send_request_headers.complete\n",
      "DEBUG:httpcore.http11:send_request_body.started request=<Request [b'POST']>\n",
      "DEBUG:httpcore.http11:send_request_body.complete\n",
      "DEBUG:httpcore.http11:receive_response_headers.started request=<Request [b'POST']>\n",
      "DEBUG:httpcore.http11:receive_response_headers.complete return_value=(b'HTTP/1.1', 200, b'OK', [(b'Content-Type', b'application/json; charset=utf-8'), (b'Date', b'Sun, 20 Jul 2025 09:24:00 GMT'), (b'Content-Length', b'467')])\n",
      "INFO:httpx:HTTP Request: POST http://127.0.0.1:11434/api/chat \"HTTP/1.1 200 OK\"\n",
      "DEBUG:httpcore.http11:receive_response_body.started request=<Request [b'POST']>\n",
      "DEBUG:httpcore.http11:receive_response_body.complete\n",
      "DEBUG:httpcore.http11:response_closed.started\n",
      "DEBUG:httpcore.http11:response_closed.complete\n",
      "INFO:root:Response from the first call to LLM: model='mistral' created_at='2025-07-20T09:24:00.266582702Z' done=True done_reason='stop' total_duration=2249695596 load_duration=4868091 prompt_eval_count=919 prompt_eval_duration=405037385 eval_count=66 eval_duration=1836213887 message=Message(role='assistant', content='{\"comment\": \"\",\\n\"function_calls\": [{\"name\":\"get_hotels\", \"arguments\":{\"city\":\"Moscow\", \"checkin_date\":\"2025-08-20\", \"checkout_date\":\"2025-08-21\"}}]}', thinking=None, images=None, tool_calls=None)\n",
      "DEBUG:root:Parsed llm response: {'comment': '', 'function_calls': [{'name': 'get_hotels', 'arguments': {'city': 'Moscow', 'checkin_date': '2025-08-20', 'checkout_date': '2025-08-21'}}]}\n",
      "DEBUG:urllib3.connectionpool:Starting new HTTP connection (1): 127.0.0.1:8000\n",
      "DEBUG:urllib3.connectionpool:http://127.0.0.1:8000 \"POST /get_hotels HTTP/1.1\" 200 285\n",
      "DEBUG:root:Response from the get_hotel endpoint: <Response [200]>\n",
      "INFO:root:Response from the booking service API: ['Response from function get_hotels:', \"{'success': True, 'error_message': None, 'available_hotels': [{'name': 'CityView Boutique', 'star_rating': 4, 'price': 400}, {'name': 'Masterpiece Manor', 'star_rating': 4, 'price': 400}, {'name': 'Supreme Solitude', 'star_rating': 4, 'price': 400}, {'name': 'Whispering Dreams', 'star_rating': 1, 'price': 100}]}\"]\n",
      "DEBUG:root:Prompt:\n",
      "\n",
      "User request:\n",
      "Which hotels are available in Moscow between 20 August 2025 and 21 August 2025?\n",
      "Response from the booking service API:\n",
      "Response from function get_hotels:/n{'success': True, 'error_message': None, 'available_hotels': [{'name': 'CityView Boutique', 'star_rating': 4, 'price': 400}, {'name': 'Masterpiece Manor', 'star_rating': 4, 'price': 400}, {'name': 'Supreme Solitude', 'star_rating': 4, 'price': 400}, {'name': 'Whispering Dreams', 'star_rating': 1, 'price': 100}]}\n",
      "        \n",
      "DEBUG:httpcore.http11:send_request_headers.started request=<Request [b'POST']>\n",
      "DEBUG:httpcore.http11:send_request_headers.complete\n",
      "DEBUG:httpcore.http11:send_request_body.started request=<Request [b'POST']>\n",
      "DEBUG:httpcore.http11:send_request_body.complete\n",
      "DEBUG:httpcore.http11:receive_response_headers.started request=<Request [b'POST']>\n",
      "DEBUG:httpcore.http11:receive_response_headers.complete return_value=(b'HTTP/1.1', 200, b'OK', [(b'Content-Type', b'application/json; charset=utf-8'), (b'Date', b'Sun, 20 Jul 2025 09:24:05 GMT'), (b'Content-Length', b'1068')])\n",
      "INFO:httpx:HTTP Request: POST http://127.0.0.1:11434/api/chat \"HTTP/1.1 200 OK\"\n",
      "DEBUG:httpcore.http11:receive_response_body.started request=<Request [b'POST']>\n",
      "DEBUG:httpcore.http11:receive_response_body.complete\n",
      "DEBUG:httpcore.http11:response_closed.started\n",
      "DEBUG:httpcore.http11:response_closed.complete\n",
      "INFO:root:Response from the second call to LLM: model='mistral' created_at='2025-07-20T09:24:05.439315572Z' done=True done_reason='stop' total_duration=5162036791 load_duration=6862088 prompt_eval_count=297 prompt_eval_duration=22479119 eval_count=202 eval_duration=5130939485 message=Message(role='assistant', content=\" Based on the response from the booking service API, there are several hotels available in Moscow between August 20th and 21st, 2025. Here's a list of the hotels along with their star ratings and prices:\\n\\n1. CityView Boutique - Star Rating: 4, Price: $400 per night\\n2. Masterpiece Manor - Star Rating: 4, Price: $400 per night\\n3. Supreme Solitude - Star Rating: 4, Price: $400 per night\\n4. Whispering Dreams - Star Rating: 1, Price: $100 per night\\n\\nPlease note that the prices are in USD and they might not reflect the actual cost due to possible currency conversions and taxes that may apply during your booking process. I would recommend visiting the hotel's official website or contacting them directly for more detailed information about their rates and services.\", thinking=None, images=None, tool_calls=None)\n"
     ]
    },
    {
     "name": "stdout",
     "output_type": "stream",
     "text": [
      " Based on the response from the booking service API, there are several hotels available in Moscow between August 20th and 21st, 2025. Here's a list of the hotels along with their star ratings and prices:\n",
      "\n",
      "1. CityView Boutique - Star Rating: 4, Price: $400 per night\n",
      "2. Masterpiece Manor - Star Rating: 4, Price: $400 per night\n",
      "3. Supreme Solitude - Star Rating: 4, Price: $400 per night\n",
      "4. Whispering Dreams - Star Rating: 1, Price: $100 per night\n",
      "\n",
      "Please note that the prices are in USD and they might not reflect the actual cost due to possible currency conversions and taxes that may apply during your booking process. I would recommend visiting the hotel's official website or contacting them directly for more detailed information about their rates and services.\n"
     ]
    }
   ],
   "source": [
    "result = booking_agent(user_request=\"Which hotels are available in Moscow between 20 August 2025 and 21 August 2025?\")\n",
    "print(result)"
   ]
  },
  {
   "cell_type": "markdown",
   "id": "bb910bd9-568b-41b7-a4d5-8471969faae8",
   "metadata": {},
   "source": [
    "Invalid request to find hotels (missing dates):"
   ]
  },
  {
   "cell_type": "code",
   "execution_count": 50,
   "id": "4f97c8e5-2bf1-42b9-a2e7-9f47647ad594",
   "metadata": {},
   "outputs": [
    {
     "name": "stderr",
     "output_type": "stream",
     "text": [
      "DEBUG:httpcore.http11:send_request_headers.started request=<Request [b'POST']>\n",
      "DEBUG:httpcore.http11:send_request_headers.complete\n",
      "DEBUG:httpcore.http11:send_request_body.started request=<Request [b'POST']>\n",
      "DEBUG:httpcore.http11:send_request_body.complete\n",
      "DEBUG:httpcore.http11:receive_response_headers.started request=<Request [b'POST']>\n",
      "DEBUG:httpcore.http11:receive_response_headers.complete return_value=(b'HTTP/1.1', 200, b'OK', [(b'Content-Type', b'application/json; charset=utf-8'), (b'Date', b'Sun, 20 Jul 2025 09:24:07 GMT'), (b'Content-Length', b'495')])\n",
      "INFO:httpx:HTTP Request: POST http://127.0.0.1:11434/api/chat \"HTTP/1.1 200 OK\"\n",
      "DEBUG:httpcore.http11:receive_response_body.started request=<Request [b'POST']>\n",
      "DEBUG:httpcore.http11:receive_response_body.complete\n",
      "DEBUG:httpcore.http11:response_closed.started\n",
      "DEBUG:httpcore.http11:response_closed.complete\n",
      "INFO:root:Response from the first call to LLM: model='mistral' created_at='2025-07-20T09:24:07.4416054Z' done=True done_reason='stop' total_duration=1993540513 load_duration=7250012 prompt_eval_count=899 prompt_eval_duration=388614163 eval_count=56 eval_duration=1593636189 message=Message(role='assistant', content='{\\n    \"comment\": \"\",\\n    \"function_calls\": [{\"name\":\"get_hotels\", \"arguments\":{\"city\":\"Moscow\", \"checkin_date\":\"<missing>\", \"checkout_date\":\"<missing>\"}}]\\n}', thinking=None, images=None, tool_calls=None)\n",
      "DEBUG:root:Parsed llm response: {'comment': '', 'function_calls': [{'name': 'get_hotels', 'arguments': {'city': 'Moscow', 'checkin_date': '<missing>', 'checkout_date': '<missing>'}}]}\n",
      "DEBUG:urllib3.connectionpool:Starting new HTTP connection (1): 127.0.0.1:8000\n",
      "DEBUG:urllib3.connectionpool:http://127.0.0.1:8000 \"POST /get_hotels HTTP/1.1\" 422 427\n",
      "DEBUG:root:Response from the get_hotel endpoint: <Response [422]>\n",
      "INFO:root:Response from the booking service API: ['Response from function get_hotels:', \"{'message': 'Invalid input', 'errors': [{'type': 'date_from_datetime_parsing', 'loc': ['body', 'checkin_date'], 'msg': 'Input should be a valid date or datetime, input is too short', 'input': '<missing>', 'ctx': {'error': 'input is too short'}}, {'type': 'date_from_datetime_parsing', 'loc': ['body', 'checkout_date'], 'msg': 'Input should be a valid date or datetime, input is too short', 'input': '<missing>', 'ctx': {'error': 'input is too short'}}]}\"]\n",
      "DEBUG:root:Prompt:\n",
      "\n",
      "User request:\n",
      "Which hotels are available in Moscow?\n",
      "Response from the booking service API:\n",
      "Response from function get_hotels:/n{'message': 'Invalid input', 'errors': [{'type': 'date_from_datetime_parsing', 'loc': ['body', 'checkin_date'], 'msg': 'Input should be a valid date or datetime, input is too short', 'input': '<missing>', 'ctx': {'error': 'input is too short'}}, {'type': 'date_from_datetime_parsing', 'loc': ['body', 'checkout_date'], 'msg': 'Input should be a valid date or datetime, input is too short', 'input': '<missing>', 'ctx': {'error': 'input is too short'}}]}\n",
      "        \n",
      "DEBUG:httpcore.http11:send_request_headers.started request=<Request [b'POST']>\n",
      "DEBUG:httpcore.http11:send_request_headers.complete\n",
      "DEBUG:httpcore.http11:send_request_body.started request=<Request [b'POST']>\n",
      "DEBUG:httpcore.http11:send_request_body.complete\n",
      "DEBUG:httpcore.http11:receive_response_headers.started request=<Request [b'POST']>\n",
      "DEBUG:httpcore.http11:receive_response_headers.complete return_value=(b'HTTP/1.1', 200, b'OK', [(b'Content-Type', b'application/json; charset=utf-8'), (b'Date', b'Sun, 20 Jul 2025 09:24:09 GMT'), (b'Content-Length', b'633')])\n",
      "INFO:httpx:HTTP Request: POST http://127.0.0.1:11434/api/chat \"HTTP/1.1 200 OK\"\n",
      "DEBUG:httpcore.http11:receive_response_body.started request=<Request [b'POST']>\n",
      "DEBUG:httpcore.http11:receive_response_body.complete\n",
      "DEBUG:httpcore.http11:response_closed.started\n",
      "DEBUG:httpcore.http11:response_closed.complete\n",
      "INFO:root:Response from the second call to LLM: model='mistral' created_at='2025-07-20T09:24:09.557093394Z' done=True done_reason='stop' total_duration=2104513019 load_duration=6464214 prompt_eval_count=290 prompt_eval_duration=21322621 eval_count=80 eval_duration=2074919760 message=Message(role='assistant', content=\" I'm sorry for the inconvenience, but it seems there's an issue with the provided check-in and checkout dates. The booking service API requires both a check-in date and a checkout date to provide hotel options. Could you please provide valid dates for your stay in Moscow? Once we have those, I'll be able to help you find available hotels.\", thinking=None, images=None, tool_calls=None)\n"
     ]
    },
    {
     "name": "stdout",
     "output_type": "stream",
     "text": [
      " I'm sorry for the inconvenience, but it seems there's an issue with the provided check-in and checkout dates. The booking service API requires both a check-in date and a checkout date to provide hotel options. Could you please provide valid dates for your stay in Moscow? Once we have those, I'll be able to help you find available hotels.\n"
     ]
    }
   ],
   "source": [
    "result = booking_agent(user_request=\"Which hotels are available in Moscow?\")\n",
    "print(result)"
   ]
  },
  {
   "cell_type": "markdown",
   "id": "7ad261bb-666d-48c9-a9c3-d8cc01b67ebc",
   "metadata": {},
   "source": [
    "Valid request to book a room:"
   ]
  },
  {
   "cell_type": "code",
   "execution_count": 51,
   "id": "0cc35e78-64bd-4a43-9920-34672c5bc87c",
   "metadata": {
    "scrolled": true
   },
   "outputs": [
    {
     "name": "stderr",
     "output_type": "stream",
     "text": [
      "DEBUG:httpcore.http11:send_request_headers.started request=<Request [b'POST']>\n",
      "DEBUG:httpcore.http11:send_request_headers.complete\n",
      "DEBUG:httpcore.http11:send_request_body.started request=<Request [b'POST']>\n",
      "DEBUG:httpcore.http11:send_request_body.complete\n",
      "DEBUG:httpcore.http11:receive_response_headers.started request=<Request [b'POST']>\n",
      "DEBUG:httpcore.http11:receive_response_headers.complete return_value=(b'HTTP/1.1', 200, b'OK', [(b'Content-Type', b'application/json; charset=utf-8'), (b'Date', b'Sun, 20 Jul 2025 09:24:12 GMT'), (b'Content-Length', b'512')])\n",
      "INFO:httpx:HTTP Request: POST http://127.0.0.1:11434/api/chat \"HTTP/1.1 200 OK\"\n",
      "DEBUG:httpcore.http11:receive_response_body.started request=<Request [b'POST']>\n",
      "DEBUG:httpcore.http11:receive_response_body.complete\n",
      "DEBUG:httpcore.http11:response_closed.started\n",
      "DEBUG:httpcore.http11:response_closed.complete\n",
      "INFO:root:Response from the first call to LLM: model='mistral' created_at='2025-07-20T09:24:12.170383568Z' done=True done_reason='stop' total_duration=2604556406 load_duration=4547103 prompt_eval_count=926 prompt_eval_duration=394178025 eval_count=81 eval_duration=2198917998 message=Message(role='assistant', content='{\\n    \"comment\": \"\",\\n    \"function_calls\": [{\"name\":\"book_hotel\", \"arguments\":{\"city\":\"Moscow\", \"name\": \"Masterpiece Manor\", \"checkin_date\":\"2025-07-30\", \"checkout_date\":\"2025-08-30\"}}]\\n}', thinking=None, images=None, tool_calls=None)\n",
      "DEBUG:root:Parsed llm response: {'comment': '', 'function_calls': [{'name': 'book_hotel', 'arguments': {'city': 'Moscow', 'name': 'Masterpiece Manor', 'checkin_date': '2025-07-30', 'checkout_date': '2025-08-30'}}]}\n",
      "DEBUG:urllib3.connectionpool:Starting new HTTP connection (1): 127.0.0.1:8000\n",
      "DEBUG:urllib3.connectionpool:http://127.0.0.1:8000 \"POST /book HTTP/1.1\" 200 154\n",
      "INFO:root:Response from the booking service API: ['Response from function book_hotel:', \"{'name': 'Masterpiece Manor', 'city': 'Moscow', 'checkin_date': '2025-07-30', 'checkout_date': '2025-08-30', 'success': True, 'message': 'Your booking is confirmed'}\"]\n",
      "DEBUG:root:Prompt:\n",
      "\n",
      "User request:\n",
      "Book me a room in Masterpiece Manor, Moscow, from July 30, 2025 to August 30, 2025\n",
      "Response from the booking service API:\n",
      "Response from function book_hotel:/n{'name': 'Masterpiece Manor', 'city': 'Moscow', 'checkin_date': '2025-07-30', 'checkout_date': '2025-08-30', 'success': True, 'message': 'Your booking is confirmed'}\n",
      "        \n",
      "DEBUG:httpcore.http11:send_request_headers.started request=<Request [b'POST']>\n",
      "DEBUG:httpcore.http11:send_request_headers.complete\n",
      "DEBUG:httpcore.http11:send_request_body.started request=<Request [b'POST']>\n",
      "DEBUG:httpcore.http11:send_request_body.complete\n",
      "DEBUG:httpcore.http11:receive_response_headers.started request=<Request [b'POST']>\n",
      "DEBUG:httpcore.http11:receive_response_headers.complete return_value=(b'HTTP/1.1', 200, b'OK', [(b'Content-Type', b'application/json; charset=utf-8'), (b'Date', b'Sun, 20 Jul 2025 09:24:15 GMT'), (b'Content-Length', b'717')])\n",
      "INFO:httpx:HTTP Request: POST http://127.0.0.1:11434/api/chat \"HTTP/1.1 200 OK\"\n",
      "DEBUG:httpcore.http11:receive_response_body.started request=<Request [b'POST']>\n",
      "DEBUG:httpcore.http11:receive_response_body.complete\n",
      "DEBUG:httpcore.http11:response_closed.started\n",
      "DEBUG:httpcore.http11:response_closed.complete\n",
      "INFO:root:Response from the second call to LLM: model='mistral' created_at='2025-07-20T09:24:15.47949352Z' done=True done_reason='stop' total_duration=3298061428 load_duration=6918203 prompt_eval_count=248 prompt_eval_duration=33197078 eval_count=131 eval_duration=3256469657 message=Message(role='assistant', content=' Based on the response from the booking service API, I can confirm that your request for a room at Masterpiece Manor in Moscow from July 30, 2025, to August 30, 2025, has been successfully booked. The hotel has confirmed your reservation.\\n\\nHere are the details of your booking:\\n- Hotel name: Masterpiece Manor\\n- City: Moscow\\n- Check-in date: July 30, 2025\\n- Check-out date: August 30, 2025\\n- Booking status: Confirmed', thinking=None, images=None, tool_calls=None)\n"
     ]
    },
    {
     "name": "stdout",
     "output_type": "stream",
     "text": [
      " Based on the response from the booking service API, I can confirm that your request for a room at Masterpiece Manor in Moscow from July 30, 2025, to August 30, 2025, has been successfully booked. The hotel has confirmed your reservation.\n",
      "\n",
      "Here are the details of your booking:\n",
      "- Hotel name: Masterpiece Manor\n",
      "- City: Moscow\n",
      "- Check-in date: July 30, 2025\n",
      "- Check-out date: August 30, 2025\n",
      "- Booking status: Confirmed\n"
     ]
    }
   ],
   "source": [
    "result = booking_agent(user_request=\"Book me a room in Masterpiece Manor, Moscow, from July 30, 2025 to August 30, 2025\")\n",
    "print(result)"
   ]
  },
  {
   "cell_type": "markdown",
   "id": "736dd5ac-5bd5-4cd8-9c6e-14d37ae3aee1",
   "metadata": {},
   "source": [
    "Valid request, but no hotels are available:"
   ]
  },
  {
   "cell_type": "code",
   "execution_count": 52,
   "id": "fc20f3e8-4da6-4dd1-830e-513cb5838bee",
   "metadata": {},
   "outputs": [
    {
     "name": "stderr",
     "output_type": "stream",
     "text": [
      "DEBUG:httpcore.http11:send_request_headers.started request=<Request [b'POST']>\n",
      "DEBUG:httpcore.http11:send_request_headers.complete\n",
      "DEBUG:httpcore.http11:send_request_body.started request=<Request [b'POST']>\n",
      "DEBUG:httpcore.http11:send_request_body.complete\n",
      "DEBUG:httpcore.http11:receive_response_headers.started request=<Request [b'POST']>\n",
      "DEBUG:httpcore.http11:receive_response_headers.complete return_value=(b'HTTP/1.1', 200, b'OK', [(b'Content-Type', b'application/json; charset=utf-8'), (b'Date', b'Sun, 20 Jul 2025 09:24:17 GMT'), (b'Content-Length', b'470')])\n",
      "INFO:httpx:HTTP Request: POST http://127.0.0.1:11434/api/chat \"HTTP/1.1 200 OK\"\n",
      "DEBUG:httpcore.http11:receive_response_body.started request=<Request [b'POST']>\n",
      "DEBUG:httpcore.http11:receive_response_body.complete\n",
      "DEBUG:httpcore.http11:response_closed.started\n",
      "DEBUG:httpcore.http11:response_closed.complete\n",
      "INFO:root:Response from the first call to LLM: model='mistral' created_at='2025-07-20T09:24:17.744358284Z' done=True done_reason='stop' total_duration=2254993340 load_duration=6266423 prompt_eval_count=920 prompt_eval_duration=397663129 eval_count=66 eval_duration=1847412070 message=Message(role='assistant', content='{\"comment\": \"\",\\n\"function_calls\": [{\"name\":\"get_hotels\", \"arguments\":{\"city\":\"Cape Town\", \"checkin_date\":\"2025-08-20\", \"checkout_date\":\"2025-08-21\"}}]}', thinking=None, images=None, tool_calls=None)\n",
      "DEBUG:root:Parsed llm response: {'comment': '', 'function_calls': [{'name': 'get_hotels', 'arguments': {'city': 'Cape Town', 'checkin_date': '2025-08-20', 'checkout_date': '2025-08-21'}}]}\n",
      "DEBUG:urllib3.connectionpool:Starting new HTTP connection (1): 127.0.0.1:8000\n",
      "DEBUG:urllib3.connectionpool:http://127.0.0.1:8000 \"POST /get_hotels HTTP/1.1\" 200 107\n",
      "DEBUG:root:Response from the get_hotel endpoint: <Response [200]>\n",
      "INFO:root:Response from the booking service API: ['Response from function get_hotels:', \"{'success': False, 'error_message': 'No available hotels in this city at these dates', 'available_hotels': None}\"]\n",
      "DEBUG:root:Prompt:\n",
      "\n",
      "User request:\n",
      "Which hotels are available in Cape Town between 20 August 2025 and 21 August 2025?\n",
      "Response from the booking service API:\n",
      "Response from function get_hotels:/n{'success': False, 'error_message': 'No available hotels in this city at these dates', 'available_hotels': None}\n",
      "        \n",
      "DEBUG:httpcore.http11:send_request_headers.started request=<Request [b'POST']>\n",
      "DEBUG:httpcore.http11:send_request_headers.complete\n",
      "DEBUG:httpcore.http11:send_request_body.started request=<Request [b'POST']>\n",
      "DEBUG:httpcore.http11:send_request_body.complete\n",
      "DEBUG:httpcore.http11:receive_response_headers.started request=<Request [b'POST']>\n",
      "DEBUG:httpcore.http11:receive_response_headers.complete return_value=(b'HTTP/1.1', 200, b'OK', [(b'Content-Type', b'application/json; charset=utf-8'), (b'Date', b'Sun, 20 Jul 2025 09:24:19 GMT'), (b'Content-Length', b'628')])\n",
      "INFO:httpx:HTTP Request: POST http://127.0.0.1:11434/api/chat \"HTTP/1.1 200 OK\"\n",
      "DEBUG:httpcore.http11:receive_response_body.started request=<Request [b'POST']>\n",
      "DEBUG:httpcore.http11:receive_response_body.complete\n",
      "DEBUG:httpcore.http11:response_closed.started\n",
      "DEBUG:httpcore.http11:response_closed.complete\n",
      "INFO:root:Response from the second call to LLM: model='mistral' created_at='2025-07-20T09:24:19.929211379Z' done=True done_reason='stop' total_duration=2174544237 load_duration=5962826 prompt_eval_count=204 prompt_eval_duration=30385455 eval_count=87 eval_duration=2135844084 message=Message(role='assistant', content=\" I'm sorry for any inconvenience, but it appears that there are no hotels available in Cape Town between August 20, 2025, and August 21, 2025. The booking service API did not return any hotels that fit these criteria. If you have different dates or would like to check for other locations, I'd be more than happy to assist you further.\", thinking=None, images=None, tool_calls=None)\n"
     ]
    },
    {
     "name": "stdout",
     "output_type": "stream",
     "text": [
      " I'm sorry for any inconvenience, but it appears that there are no hotels available in Cape Town between August 20, 2025, and August 21, 2025. The booking service API did not return any hotels that fit these criteria. If you have different dates or would like to check for other locations, I'd be more than happy to assist you further.\n"
     ]
    }
   ],
   "source": [
    "result = booking_agent(user_request=\"Which hotels are available in Cape Town between 20 August 2025 and 21 August 2025?\")\n",
    "print(result)"
   ]
  },
  {
   "cell_type": "markdown",
   "id": "de60bd85-5d96-403c-b2e0-9bb4b5aa06b1",
   "metadata": {},
   "source": [
    "Request disrelated to booking:"
   ]
  },
  {
   "cell_type": "code",
   "execution_count": 53,
   "id": "c1f3cd41-9bfa-48df-9a81-b14c437988d2",
   "metadata": {},
   "outputs": [
    {
     "name": "stderr",
     "output_type": "stream",
     "text": [
      "DEBUG:httpcore.http11:send_request_headers.started request=<Request [b'POST']>\n",
      "DEBUG:httpcore.http11:send_request_headers.complete\n",
      "DEBUG:httpcore.http11:send_request_body.started request=<Request [b'POST']>\n",
      "DEBUG:httpcore.http11:send_request_body.complete\n",
      "DEBUG:httpcore.http11:receive_response_headers.started request=<Request [b'POST']>\n",
      "DEBUG:httpcore.http11:receive_response_headers.complete return_value=(b'HTTP/1.1', 200, b'OK', [(b'Content-Type', b'application/json; charset=utf-8'), (b'Date', b'Sun, 20 Jul 2025 09:24:22 GMT'), (b'Content-Length', b'563')])\n",
      "INFO:httpx:HTTP Request: POST http://127.0.0.1:11434/api/chat \"HTTP/1.1 200 OK\"\n",
      "DEBUG:httpcore.http11:receive_response_body.started request=<Request [b'POST']>\n",
      "DEBUG:httpcore.http11:receive_response_body.complete\n",
      "DEBUG:httpcore.http11:response_closed.started\n",
      "DEBUG:httpcore.http11:response_closed.complete\n",
      "INFO:root:Response from the first call to LLM: model='mistral' created_at='2025-07-20T09:24:22.356377714Z' done=True done_reason='stop' total_duration=2410503611 load_duration=5713363 prompt_eval_count=897 prompt_eval_duration=348100625 eval_count=75 eval_duration=2052372209 message=Message(role='assistant', content='{\\n    \"comment\": \"Function call for finding hotels in the requested city with provided dates.\",\\n    \"function_calls\": [{\"name\":\"get_hotels\", \"arguments\":{\"city\":\"London\", \"checkin_date\":\"2026-09-01\", \"checkout_date\":\"<missing>\"}}]\\n}', thinking=None, images=None, tool_calls=None)\n",
      "DEBUG:root:Parsed llm response: {'comment': 'Function call for finding hotels in the requested city with provided dates.', 'function_calls': [{'name': 'get_hotels', 'arguments': {'city': 'London', 'checkin_date': '2026-09-01', 'checkout_date': '<missing>'}}]}\n",
      "DEBUG:urllib3.connectionpool:Starting new HTTP connection (1): 127.0.0.1:8000\n",
      "DEBUG:urllib3.connectionpool:http://127.0.0.1:8000 \"POST /get_hotels HTTP/1.1\" 422 233\n",
      "DEBUG:root:Response from the get_hotel endpoint: <Response [422]>\n",
      "INFO:root:Response from the booking service API: ['Response from function get_hotels:', \"{'message': 'Invalid input', 'errors': [{'type': 'date_from_datetime_parsing', 'loc': ['body', 'checkout_date'], 'msg': 'Input should be a valid date or datetime, input is too short', 'input': '<missing>', 'ctx': {'error': 'input is too short'}}]}\"]\n",
      "DEBUG:root:Prompt:\n",
      "\n",
      "User request:\n",
      "How is your Mom?\n",
      "Response from the booking service API:\n",
      "Response from function get_hotels:/n{'message': 'Invalid input', 'errors': [{'type': 'date_from_datetime_parsing', 'loc': ['body', 'checkout_date'], 'msg': 'Input should be a valid date or datetime, input is too short', 'input': '<missing>', 'ctx': {'error': 'input is too short'}}]}\n",
      "        \n",
      "DEBUG:httpcore.http11:send_request_headers.started request=<Request [b'POST']>\n",
      "DEBUG:httpcore.http11:send_request_headers.complete\n",
      "DEBUG:httpcore.http11:send_request_body.started request=<Request [b'POST']>\n",
      "DEBUG:httpcore.http11:send_request_body.complete\n",
      "DEBUG:httpcore.http11:receive_response_headers.started request=<Request [b'POST']>\n",
      "DEBUG:httpcore.http11:receive_response_headers.complete return_value=(b'HTTP/1.1', 200, b'OK', [(b'Content-Type', b'application/json; charset=utf-8'), (b'Date', b'Sun, 20 Jul 2025 09:24:24 GMT'), (b'Content-Length', b'743')])\n",
      "INFO:httpx:HTTP Request: POST http://127.0.0.1:11434/api/chat \"HTTP/1.1 200 OK\"\n",
      "DEBUG:httpcore.http11:receive_response_body.started request=<Request [b'POST']>\n",
      "DEBUG:httpcore.http11:receive_response_body.complete\n",
      "DEBUG:httpcore.http11:response_closed.started\n",
      "DEBUG:httpcore.http11:response_closed.complete\n",
      "INFO:root:Response from the second call to LLM: model='mistral' created_at='2025-07-20T09:24:24.939947725Z' done=True done_reason='stop' total_duration=2576023075 load_duration=8375574 prompt_eval_count=226 prompt_eval_duration=33079016 eval_count=102 eval_duration=2532356543 message=Message(role='assistant', content=\" I'm sorry for any inconvenience. As a booking agent, my primary function is to assist you in finding available hotels or booking a room in a hotel based on your requirements. The service has just responded with an error related to the check-out date format. Let's focus on finding hotels instead. Could you please provide me with the check-out date in a valid format, such as YYYY-MM-DD? This will help us proceed with the booking process smoothly.\", thinking=None, images=None, tool_calls=None)\n"
     ]
    },
    {
     "name": "stdout",
     "output_type": "stream",
     "text": [
      " I'm sorry for any inconvenience. As a booking agent, my primary function is to assist you in finding available hotels or booking a room in a hotel based on your requirements. The service has just responded with an error related to the check-out date format. Let's focus on finding hotels instead. Could you please provide me with the check-out date in a valid format, such as YYYY-MM-DD? This will help us proceed with the booking process smoothly.\n"
     ]
    }
   ],
   "source": [
    "result = booking_agent(user_request=\"How is your Mom?\")\n",
    "print(result)"
   ]
  },
  {
   "cell_type": "code",
   "execution_count": null,
   "id": "968fc86b-a641-423c-a7a8-a328b20befca",
   "metadata": {},
   "outputs": [],
   "source": []
  }
 ],
 "metadata": {
  "kernelspec": {
   "display_name": "Python 3 (ipykernel)",
   "language": "python",
   "name": "python3"
  },
  "language_info": {
   "codemirror_mode": {
    "name": "ipython",
    "version": 3
   },
   "file_extension": ".py",
   "mimetype": "text/x-python",
   "name": "python",
   "nbconvert_exporter": "python",
   "pygments_lexer": "ipython3",
   "version": "3.13.5"
  }
 },
 "nbformat": 4,
 "nbformat_minor": 5
}
