{
 "cells": [
  {
   "cell_type": "markdown",
   "id": "785d38e0-b859-4f53-bf9e-9c29f46a15d5",
   "metadata": {},
   "source": [
    "# Prepare a train set to fine-tune the model"
   ]
  },
  {
   "cell_type": "code",
   "execution_count": 1,
   "id": "93bb9cf8-95a1-4747-88f3-b7322eefc3f6",
   "metadata": {},
   "outputs": [],
   "source": [
    "import pandas as pd\n",
    "from tqdm import tqdm\n",
    "tqdm.pandas()\n",
    "\n",
    "from booking_baseline import BookingAgent, available_functions, system_message_1, system_message_2"
   ]
  },
  {
   "cell_type": "code",
   "execution_count": 2,
   "id": "55fcb043-2d6d-4940-8e37-0bbe3e0a80eb",
   "metadata": {},
   "outputs": [],
   "source": [
    "booking_agent = BookingAgent(\n",
    "    functions=available_functions,\n",
    "    model_name='mistral',\n",
    "    system_message_1=system_message_1,\n",
    "    system_message_2=system_message_2\n",
    ")"
   ]
  },
  {
   "cell_type": "code",
   "execution_count": 3,
   "id": "7c30542a-b83c-4eca-a592-69d429db456a",
   "metadata": {},
   "outputs": [
    {
     "data": {
      "text/html": [
       "<div>\n",
       "<style scoped>\n",
       "    .dataframe tbody tr th:only-of-type {\n",
       "        vertical-align: middle;\n",
       "    }\n",
       "\n",
       "    .dataframe tbody tr th {\n",
       "        vertical-align: top;\n",
       "    }\n",
       "\n",
       "    .dataframe thead th {\n",
       "        text-align: right;\n",
       "    }\n",
       "</style>\n",
       "<table border=\"1\" class=\"dataframe\">\n",
       "  <thead>\n",
       "    <tr style=\"text-align: right;\">\n",
       "      <th></th>\n",
       "      <th>available</th>\n",
       "      <th>query</th>\n",
       "    </tr>\n",
       "  </thead>\n",
       "  <tbody>\n",
       "    <tr>\n",
       "      <th>0</th>\n",
       "      <td>True</td>\n",
       "      <td>Subject: Room Reservation Request at Premier ...</td>\n",
       "    </tr>\n",
       "    <tr>\n",
       "      <th>1</th>\n",
       "      <td>False</td>\n",
       "      <td>Hello, I'd like to make a reservation for a r...</td>\n",
       "    </tr>\n",
       "    <tr>\n",
       "      <th>2</th>\n",
       "      <td>True</td>\n",
       "      <td>I need some suggestions for hotels available ...</td>\n",
       "    </tr>\n",
       "    <tr>\n",
       "      <th>3</th>\n",
       "      <td>True</td>\n",
       "      <td>Hi there, could you please provide me with a ...</td>\n",
       "    </tr>\n",
       "    <tr>\n",
       "      <th>4</th>\n",
       "      <td>False</td>\n",
       "      <td>Hi there! I'm interested in booking a room at...</td>\n",
       "    </tr>\n",
       "    <tr>\n",
       "      <th>...</th>\n",
       "      <td>...</td>\n",
       "      <td>...</td>\n",
       "    </tr>\n",
       "    <tr>\n",
       "      <th>459</th>\n",
       "      <td>True</td>\n",
       "      <td>Could you please provide me with a list of ho...</td>\n",
       "    </tr>\n",
       "    <tr>\n",
       "      <th>460</th>\n",
       "      <td>False</td>\n",
       "      <td>Hi, I'm looking for available hotels in Paris...</td>\n",
       "    </tr>\n",
       "    <tr>\n",
       "      <th>461</th>\n",
       "      <td>False</td>\n",
       "      <td>Subject: Room Reservation Request for Marrow ...</td>\n",
       "    </tr>\n",
       "    <tr>\n",
       "      <th>462</th>\n",
       "      <td>True</td>\n",
       "      <td>Hi there! I'd like to make a reservation at L...</td>\n",
       "    </tr>\n",
       "    <tr>\n",
       "      <th>463</th>\n",
       "      <td>True</td>\n",
       "      <td>Can you provide me with a list of hotels avai...</td>\n",
       "    </tr>\n",
       "  </tbody>\n",
       "</table>\n",
       "<p>464 rows × 2 columns</p>\n",
       "</div>"
      ],
      "text/plain": [
       "     available                                              query\n",
       "0         True   Subject: Room Reservation Request at Premier ...\n",
       "1        False   Hello, I'd like to make a reservation for a r...\n",
       "2         True   I need some suggestions for hotels available ...\n",
       "3         True   Hi there, could you please provide me with a ...\n",
       "4        False   Hi there! I'm interested in booking a room at...\n",
       "..         ...                                                ...\n",
       "459       True   Could you please provide me with a list of ho...\n",
       "460      False   Hi, I'm looking for available hotels in Paris...\n",
       "461      False   Subject: Room Reservation Request for Marrow ...\n",
       "462       True   Hi there! I'd like to make a reservation at L...\n",
       "463       True   Can you provide me with a list of hotels avai...\n",
       "\n",
       "[464 rows x 2 columns]"
      ]
     },
     "execution_count": 3,
     "metadata": {},
     "output_type": "execute_result"
    }
   ],
   "source": [
    "train_df = pd.read_csv('train.csv')\n",
    "train_df"
   ]
  },
  {
   "cell_type": "code",
   "execution_count": 4,
   "id": "7c4918c8-89e5-4ec8-b264-510c83bbfe92",
   "metadata": {},
   "outputs": [
    {
     "name": "stderr",
     "output_type": "stream",
     "text": [
      "  0%|                                                   | 0/464 [00:00<?, ?it/s]ERROR:root:Function calls failed with error: book_hotel() missing 1 required positional argument: 'checkout_date'\n",
      "  3%|█▎                                        | 15/464 [01:03<29:53,  3.99s/it]ERROR:root:Function calls failed with error: book_hotel() missing 4 required positional arguments: 'name', 'city', 'checkin_date', and 'checkout_date'\n",
      "  8%|███▍                                      | 38/464 [02:58<34:12,  4.82s/it]ERROR:root:Function calls failed with error: get_hotels() missing 1 required positional argument: 'checkout_date'\n",
      "  9%|███▉                                      | 43/464 [03:20<32:02,  4.57s/it]ERROR:root:Function calls failed with error: get_hotels() missing 1 required positional argument: 'checkout_date'\n",
      " 11%|████▌                                     | 50/464 [03:57<31:22,  4.55s/it]ERROR:root:Function calls failed with error: book_hotel() got an unexpected keyword argument 'num_of_guests'\n",
      " 15%|██████▍                                   | 71/464 [05:36<28:15,  4.32s/it]ERROR:root:Function calls failed with error: get_hotels() missing 1 required positional argument: 'checkout_date'\n",
      " 16%|██████▌                                   | 72/464 [05:45<37:16,  5.71s/it]ERROR:root:Function calls failed with error: get_hotels() missing 2 required positional arguments: 'checkin_date' and 'checkout_date'\n",
      " 19%|███████▊                                  | 86/464 [06:49<30:44,  4.88s/it]ERROR:root:Function calls failed with error: get_hotels() missing 1 required positional argument: 'checkout_date'\n",
      " 20%|████████▎                                 | 92/464 [07:14<26:48,  4.32s/it]ERROR:root:Function calls failed with error: get_hotels() missing 1 required positional argument: 'checkout_date'\n",
      " 21%|████████▋                                 | 96/464 [07:33<31:14,  5.09s/it]ERROR:root:Function calls failed with error: book_hotel() missing 1 required positional argument: 'name'\n",
      " 23%|█████████▋                               | 109/464 [08:39<25:53,  4.38s/it]ERROR:root:Function calls failed with error: get_hotels() missing 1 required positional argument: 'checkout_date'\n",
      " 25%|██████████▎                              | 116/464 [09:09<24:39,  4.25s/it]ERROR:root:Function calls failed with error: get_hotels() missing 1 required positional argument: 'checkout_date'\n",
      " 33%|█████████████▎                           | 151/464 [11:58<25:42,  4.93s/it]ERROR:root:Function calls failed with error: get_hotels() missing 2 required positional arguments: 'checkin_date' and 'checkout_date'\n",
      " 34%|██████████████                           | 159/464 [12:33<25:29,  5.02s/it]ERROR:root:Function calls failed with error: book_hotel() missing 1 required positional argument: 'checkout_date'\n",
      " 38%|███████████████▍                         | 174/464 [13:46<22:58,  4.75s/it]ERROR:root:Function calls failed with error: get_hotels() missing 1 required positional argument: 'checkout_date'\n",
      " 40%|████████████████▎                        | 184/464 [14:39<24:14,  5.19s/it]ERROR:root:Function calls failed with error: get_hotels() missing 1 required positional argument: 'checkout_date'\n",
      " 40%|████████████████▎                        | 185/464 [14:43<23:13,  4.99s/it]ERROR:root:Function calls failed with error: book_hotel() missing 1 required positional argument: 'name'\n",
      " 40%|████████████████▍                        | 186/464 [14:51<26:23,  5.70s/it]ERROR:root:Function calls failed with error: get_hotels() missing 1 required positional argument: 'checkout_date'\n",
      " 41%|████████████████▊                        | 190/464 [15:08<21:10,  4.64s/it]ERROR:root:Function calls failed with error: get_hotels() missing 2 required positional arguments: 'checkin_date' and 'checkout_date'\n",
      " 41%|████████████████▉                        | 191/464 [15:16<26:14,  5.77s/it]ERROR:root:Function calls failed with error: get_hotels() missing 1 required positional argument: 'checkout_date'\n",
      " 43%|█████████████████▊                       | 201/464 [16:11<22:57,  5.24s/it]ERROR:root:Function calls failed with error: get_hotels() missing 2 required positional arguments: 'checkin_date' and 'checkout_date'\n",
      " 47%|███████████████████▏                     | 217/464 [17:25<18:05,  4.39s/it]ERROR:root:Function calls failed with error: book_hotel() missing 1 required positional argument: 'name'\n",
      " 50%|████████████████████▎                    | 230/464 [18:34<17:00,  4.36s/it]ERROR:root:Function calls failed with error: book_hotel() missing 1 required positional argument: 'name'\n",
      " 51%|█████████████████████                    | 238/464 [19:14<17:31,  4.65s/it]ERROR:root:Function calls failed with error: get_hotels() missing 1 required positional argument: 'checkout_date'\n",
      " 52%|█████████████████████▎                   | 241/464 [19:32<20:24,  5.49s/it]ERROR:root:Function calls failed with error: get_hotels() missing 1 required positional argument: 'checkout_date'\n",
      " 54%|██████████████████████                   | 250/464 [20:20<18:55,  5.30s/it]ERROR:root:Function calls failed with error: get_hotels() missing 1 required positional argument: 'checkout_date'\n",
      " 55%|██████████████████████▋                  | 257/464 [20:50<15:47,  4.58s/it]ERROR:root:Function calls failed with error: get_hotels() missing 2 required positional arguments: 'checkin_date' and 'checkout_date'\n",
      " 59%|████████████████████████                 | 273/464 [22:16<19:13,  6.04s/it]ERROR:root:Function calls failed with error: get_hotels() missing 1 required positional argument: 'checkout_date'\n",
      " 66%|███████████████████████████              | 306/464 [25:01<12:44,  4.84s/it]ERROR:root:Function calls failed with error: book_hotel() missing 1 required positional argument: 'checkout_date'\n",
      " 66%|███████████████████████████▏             | 308/464 [25:08<11:05,  4.27s/it]ERROR:root:Function calls failed with error: get_hotels() missing 1 required positional argument: 'checkout_date'\n",
      " 74%|██████████████████████████████▍          | 345/464 [27:59<08:06,  4.09s/it]ERROR:root:Function calls failed with error: get_hotels() missing 1 required positional argument: 'checkout_date'\n",
      " 79%|████████████████████████████████▎        | 365/464 [29:29<08:45,  5.31s/it]ERROR:root:Function calls failed with error: get_hotels() missing 1 required positional argument: 'checkout_date'\n",
      " 80%|████████████████████████████████▊        | 372/464 [30:10<08:36,  5.61s/it]ERROR:root:Function calls failed with error: book_hotel() missing 1 required positional argument: 'name'\n",
      " 83%|██████████████████████████████████       | 385/464 [31:07<05:05,  3.87s/it]ERROR:root:Function calls failed with error: book_hotel() missing 1 required positional argument: 'name'\n",
      " 85%|██████████████████████████████████▉      | 395/464 [31:54<05:29,  4.78s/it]ERROR:root:Function calls failed with error: get_hotels() missing 2 required positional arguments: 'checkin_date' and 'checkout_date'\n",
      " 85%|██████████████████████████████████▉      | 396/464 [31:58<05:09,  4.55s/it]ERROR:root:Function calls failed with error: get_hotels() missing 1 required positional argument: 'checkout_date'\n",
      " 86%|███████████████████████████████████▎     | 399/464 [32:15<05:21,  4.95s/it]ERROR:root:Function calls failed with error: get_hotels() missing 1 required positional argument: 'checkout_date'\n",
      " 89%|████████████████████████████████████▍    | 412/464 [33:20<04:07,  4.75s/it]ERROR:root:Function calls failed with error: book_hotel() missing 1 required positional argument: 'checkout_date'\n",
      " 90%|████████████████████████████████████▊    | 417/464 [33:59<06:11,  7.91s/it]ERROR:root:Function calls failed with error: get_hotels() missing 2 required positional arguments: 'checkin_date' and 'checkout_date'\n",
      " 93%|██████████████████████████████████████   | 431/464 [35:10<02:38,  4.79s/it]ERROR:root:Function calls failed with error: get_hotels() missing 1 required positional argument: 'checkout_date'\n",
      " 94%|██████████████████████████████████████▌  | 436/464 [35:41<03:22,  7.23s/it]ERROR:root:Function calls failed with error: get_hotels() missing 1 required positional argument: 'checkout_date'\n",
      " 95%|██████████████████████████████████████▉  | 440/464 [36:01<02:07,  5.30s/it]ERROR:root:Function calls failed with error: get_hotels() missing 1 required positional argument: 'checkout_date'\n",
      " 97%|███████████████████████████████████████▊ | 450/464 [36:48<01:03,  4.52s/it]ERROR:root:Function calls failed with error: book_hotel() missing 1 required positional argument: 'checkout_date'\n",
      " 98%|████████████████████████████████████████ | 453/464 [37:06<00:59,  5.41s/it]ERROR:root:Function calls failed with error: book_hotel() missing 2 required positional arguments: 'checkin_date' and 'checkout_date'\n",
      "100%|█████████████████████████████████████████| 464/464 [37:58<00:00,  4.91s/it]\n"
     ]
    }
   ],
   "source": [
    "train_df[['llm_response_1', 'llm_response_2']] = train_df.progress_apply(lambda row: booking_agent(row['query']), axis=1, result_type='expand')"
   ]
  },
  {
   "cell_type": "code",
   "execution_count": 5,
   "id": "f28fe646-1057-40ed-a2f6-b0dedfb98a30",
   "metadata": {},
   "outputs": [
    {
     "data": {
      "text/html": [
       "<div>\n",
       "<style scoped>\n",
       "    .dataframe tbody tr th:only-of-type {\n",
       "        vertical-align: middle;\n",
       "    }\n",
       "\n",
       "    .dataframe tbody tr th {\n",
       "        vertical-align: top;\n",
       "    }\n",
       "\n",
       "    .dataframe thead th {\n",
       "        text-align: right;\n",
       "    }\n",
       "</style>\n",
       "<table border=\"1\" class=\"dataframe\">\n",
       "  <thead>\n",
       "    <tr style=\"text-align: right;\">\n",
       "      <th></th>\n",
       "      <th>available</th>\n",
       "      <th>query</th>\n",
       "      <th>llm_response_1</th>\n",
       "      <th>llm_response_2</th>\n",
       "    </tr>\n",
       "  </thead>\n",
       "  <tbody>\n",
       "    <tr>\n",
       "      <th>0</th>\n",
       "      <td>True</td>\n",
       "      <td>Subject: Room Reservation Request at Premier ...</td>\n",
       "      <td>{'comment': 'User provided the city and checki...</td>\n",
       "      <td>Dear User,\\n\\nThank you for reaching out to u...</td>\n",
       "    </tr>\n",
       "    <tr>\n",
       "      <th>1</th>\n",
       "      <td>False</td>\n",
       "      <td>Hello, I'd like to make a reservation for a r...</td>\n",
       "      <td>{'comment': '', 'function_calls': [{'name': 'b...</td>\n",
       "      <td>I'm sorry for the inconvenience, but it seems...</td>\n",
       "    </tr>\n",
       "    <tr>\n",
       "      <th>2</th>\n",
       "      <td>True</td>\n",
       "      <td>I need some suggestions for hotels available ...</td>\n",
       "      <td>{'comment': '', 'function_calls': [{'name': 'g...</td>\n",
       "      <td>Based on the response from the booking servic...</td>\n",
       "    </tr>\n",
       "    <tr>\n",
       "      <th>3</th>\n",
       "      <td>True</td>\n",
       "      <td>Hi there, could you please provide me with a ...</td>\n",
       "      <td>{'comment': '', 'function_calls': [{'name': 'g...</td>\n",
       "      <td>I'm sorry for any inconvenience. The booking ...</td>\n",
       "    </tr>\n",
       "    <tr>\n",
       "      <th>4</th>\n",
       "      <td>False</td>\n",
       "      <td>Hi there! I'm interested in booking a room at...</td>\n",
       "      <td>{'comment': '', 'function_calls': [{'name': 'b...</td>\n",
       "      <td>I'm sorry for the inconvenience, but it seems...</td>\n",
       "    </tr>\n",
       "    <tr>\n",
       "      <th>...</th>\n",
       "      <td>...</td>\n",
       "      <td>...</td>\n",
       "      <td>...</td>\n",
       "      <td>...</td>\n",
       "    </tr>\n",
       "    <tr>\n",
       "      <th>459</th>\n",
       "      <td>True</td>\n",
       "      <td>Could you please provide me with a list of ho...</td>\n",
       "      <td>{'comment': '', 'function_calls': [{'name': 'g...</td>\n",
       "      <td>Based on the response I received from the boo...</td>\n",
       "    </tr>\n",
       "    <tr>\n",
       "      <th>460</th>\n",
       "      <td>False</td>\n",
       "      <td>Hi, I'm looking for available hotels in Paris...</td>\n",
       "      <td>{'comment': '', 'function_calls': [{'name': 'g...</td>\n",
       "      <td>I'm sorry for any inconvenience. It seems the...</td>\n",
       "    </tr>\n",
       "    <tr>\n",
       "      <th>461</th>\n",
       "      <td>False</td>\n",
       "      <td>Subject: Room Reservation Request for Marrow ...</td>\n",
       "      <td>{'comment': '', 'function_calls': [{'name': 'b...</td>\n",
       "      <td>I'm sorry for any inconvenience. However, bas...</td>\n",
       "    </tr>\n",
       "    <tr>\n",
       "      <th>462</th>\n",
       "      <td>True</td>\n",
       "      <td>Hi there! I'd like to make a reservation at L...</td>\n",
       "      <td>{'comment': '', 'function_calls': [{'name': 'b...</td>\n",
       "      <td>I'm sorry for the inconvenience, but it seems...</td>\n",
       "    </tr>\n",
       "    <tr>\n",
       "      <th>463</th>\n",
       "      <td>True</td>\n",
       "      <td>Can you provide me with a list of hotels avai...</td>\n",
       "      <td>{'comment': '', 'function_calls': [{'name': 'g...</td>\n",
       "      <td>Based on the response from the booking servic...</td>\n",
       "    </tr>\n",
       "  </tbody>\n",
       "</table>\n",
       "<p>464 rows × 4 columns</p>\n",
       "</div>"
      ],
      "text/plain": [
       "     available                                              query  \\\n",
       "0         True   Subject: Room Reservation Request at Premier ...   \n",
       "1        False   Hello, I'd like to make a reservation for a r...   \n",
       "2         True   I need some suggestions for hotels available ...   \n",
       "3         True   Hi there, could you please provide me with a ...   \n",
       "4        False   Hi there! I'm interested in booking a room at...   \n",
       "..         ...                                                ...   \n",
       "459       True   Could you please provide me with a list of ho...   \n",
       "460      False   Hi, I'm looking for available hotels in Paris...   \n",
       "461      False   Subject: Room Reservation Request for Marrow ...   \n",
       "462       True   Hi there! I'd like to make a reservation at L...   \n",
       "463       True   Can you provide me with a list of hotels avai...   \n",
       "\n",
       "                                        llm_response_1  \\\n",
       "0    {'comment': 'User provided the city and checki...   \n",
       "1    {'comment': '', 'function_calls': [{'name': 'b...   \n",
       "2    {'comment': '', 'function_calls': [{'name': 'g...   \n",
       "3    {'comment': '', 'function_calls': [{'name': 'g...   \n",
       "4    {'comment': '', 'function_calls': [{'name': 'b...   \n",
       "..                                                 ...   \n",
       "459  {'comment': '', 'function_calls': [{'name': 'g...   \n",
       "460  {'comment': '', 'function_calls': [{'name': 'g...   \n",
       "461  {'comment': '', 'function_calls': [{'name': 'b...   \n",
       "462  {'comment': '', 'function_calls': [{'name': 'b...   \n",
       "463  {'comment': '', 'function_calls': [{'name': 'g...   \n",
       "\n",
       "                                        llm_response_2  \n",
       "0     Dear User,\\n\\nThank you for reaching out to u...  \n",
       "1     I'm sorry for the inconvenience, but it seems...  \n",
       "2     Based on the response from the booking servic...  \n",
       "3     I'm sorry for any inconvenience. The booking ...  \n",
       "4     I'm sorry for the inconvenience, but it seems...  \n",
       "..                                                 ...  \n",
       "459   Based on the response I received from the boo...  \n",
       "460   I'm sorry for any inconvenience. It seems the...  \n",
       "461   I'm sorry for any inconvenience. However, bas...  \n",
       "462   I'm sorry for the inconvenience, but it seems...  \n",
       "463   Based on the response from the booking servic...  \n",
       "\n",
       "[464 rows x 4 columns]"
      ]
     },
     "execution_count": 5,
     "metadata": {},
     "output_type": "execute_result"
    }
   ],
   "source": [
    "train_df"
   ]
  },
  {
   "cell_type": "code",
   "execution_count": 6,
   "id": "9087d46a-9dbc-4cdf-8e51-7dc2497eb181",
   "metadata": {},
   "outputs": [],
   "source": [
    "train_df.to_excel('train_raw.xlsx', index=False)"
   ]
  },
  {
   "cell_type": "markdown",
   "id": "7b87f872-20a3-40bc-bbe7-b293514dc33d",
   "metadata": {},
   "source": [
    "## Finalize the train set to fine-tune the 1st stage (tool call generation)\n",
    "The dataset was checked and corrected manually."
   ]
  },
  {
   "cell_type": "code",
   "execution_count": 1,
   "id": "a35ab8c4-cd75-407d-b9fb-ec10efaf5c21",
   "metadata": {},
   "outputs": [],
   "source": [
    "import json, os\n",
    "\n",
    "import pandas as pd\n",
    "from datasets import Dataset, DatasetDict\n",
    "from transformers import AutoTokenizer\n",
    "\n",
    "from booking_baseline import system_message_1"
   ]
  },
  {
   "cell_type": "code",
   "execution_count": 2,
   "id": "770fc756-ba4c-460d-b6f3-0c193a5c2823",
   "metadata": {},
   "outputs": [
    {
     "data": {
      "text/html": [
       "<div>\n",
       "<style scoped>\n",
       "    .dataframe tbody tr th:only-of-type {\n",
       "        vertical-align: middle;\n",
       "    }\n",
       "\n",
       "    .dataframe tbody tr th {\n",
       "        vertical-align: top;\n",
       "    }\n",
       "\n",
       "    .dataframe thead th {\n",
       "        text-align: right;\n",
       "    }\n",
       "</style>\n",
       "<table border=\"1\" class=\"dataframe\">\n",
       "  <thead>\n",
       "    <tr style=\"text-align: right;\">\n",
       "      <th></th>\n",
       "      <th>available</th>\n",
       "      <th>query</th>\n",
       "      <th>llm_response_1</th>\n",
       "    </tr>\n",
       "  </thead>\n",
       "  <tbody>\n",
       "    <tr>\n",
       "      <th>0</th>\n",
       "      <td>True</td>\n",
       "      <td>Subject: Room Reservation Request at Premier ...</td>\n",
       "      <td>{'comment': '', 'function_calls': [{'name': 'b...</td>\n",
       "    </tr>\n",
       "    <tr>\n",
       "      <th>1</th>\n",
       "      <td>False</td>\n",
       "      <td>Hello, I'd like to make a reservation for a r...</td>\n",
       "      <td>{'comment': '', 'function_calls': [{'name': 'b...</td>\n",
       "    </tr>\n",
       "    <tr>\n",
       "      <th>2</th>\n",
       "      <td>True</td>\n",
       "      <td>I need some suggestions for hotels available ...</td>\n",
       "      <td>{'comment': '', 'function_calls': [{'name': 'g...</td>\n",
       "    </tr>\n",
       "    <tr>\n",
       "      <th>3</th>\n",
       "      <td>True</td>\n",
       "      <td>Hi there, could you please provide me with a ...</td>\n",
       "      <td>{'comment': 'Missing check-in and check-out da...</td>\n",
       "    </tr>\n",
       "    <tr>\n",
       "      <th>4</th>\n",
       "      <td>False</td>\n",
       "      <td>Hi there! I'm interested in booking a room at...</td>\n",
       "      <td>{'comment': 'Missing city name', 'function_cal...</td>\n",
       "    </tr>\n",
       "    <tr>\n",
       "      <th>...</th>\n",
       "      <td>...</td>\n",
       "      <td>...</td>\n",
       "      <td>...</td>\n",
       "    </tr>\n",
       "    <tr>\n",
       "      <th>456</th>\n",
       "      <td>True</td>\n",
       "      <td>Could you please provide me with a list of ho...</td>\n",
       "      <td>{'comment': '', 'function_calls': [{'name': 'g...</td>\n",
       "    </tr>\n",
       "    <tr>\n",
       "      <th>457</th>\n",
       "      <td>False</td>\n",
       "      <td>Hi, I'm looking for available hotels in Paris...</td>\n",
       "      <td>{'comment': 'Missing checkout date', 'function...</td>\n",
       "    </tr>\n",
       "    <tr>\n",
       "      <th>458</th>\n",
       "      <td>False</td>\n",
       "      <td>Subject: Room Reservation Request for Marrow ...</td>\n",
       "      <td>{'comment': '', 'function_calls': [{'name': 'b...</td>\n",
       "    </tr>\n",
       "    <tr>\n",
       "      <th>459</th>\n",
       "      <td>True</td>\n",
       "      <td>Hi there! I'd like to make a reservation at L...</td>\n",
       "      <td>{'comment': '', 'function_calls': [{'name': 'b...</td>\n",
       "    </tr>\n",
       "    <tr>\n",
       "      <th>460</th>\n",
       "      <td>True</td>\n",
       "      <td>Can you provide me with a list of hotels avai...</td>\n",
       "      <td>{'comment': 'Missing checkout date', 'function...</td>\n",
       "    </tr>\n",
       "  </tbody>\n",
       "</table>\n",
       "<p>461 rows × 3 columns</p>\n",
       "</div>"
      ],
      "text/plain": [
       "     available                                              query  \\\n",
       "0         True   Subject: Room Reservation Request at Premier ...   \n",
       "1        False   Hello, I'd like to make a reservation for a r...   \n",
       "2         True   I need some suggestions for hotels available ...   \n",
       "3         True   Hi there, could you please provide me with a ...   \n",
       "4        False   Hi there! I'm interested in booking a room at...   \n",
       "..         ...                                                ...   \n",
       "456       True   Could you please provide me with a list of ho...   \n",
       "457      False   Hi, I'm looking for available hotels in Paris...   \n",
       "458      False   Subject: Room Reservation Request for Marrow ...   \n",
       "459       True   Hi there! I'd like to make a reservation at L...   \n",
       "460       True   Can you provide me with a list of hotels avai...   \n",
       "\n",
       "                                        llm_response_1  \n",
       "0    {'comment': '', 'function_calls': [{'name': 'b...  \n",
       "1    {'comment': '', 'function_calls': [{'name': 'b...  \n",
       "2    {'comment': '', 'function_calls': [{'name': 'g...  \n",
       "3    {'comment': 'Missing check-in and check-out da...  \n",
       "4    {'comment': 'Missing city name', 'function_cal...  \n",
       "..                                                 ...  \n",
       "456  {'comment': '', 'function_calls': [{'name': 'g...  \n",
       "457  {'comment': 'Missing checkout date', 'function...  \n",
       "458  {'comment': '', 'function_calls': [{'name': 'b...  \n",
       "459  {'comment': '', 'function_calls': [{'name': 'b...  \n",
       "460  {'comment': 'Missing checkout date', 'function...  \n",
       "\n",
       "[461 rows x 3 columns]"
      ]
     },
     "execution_count": 2,
     "metadata": {},
     "output_type": "execute_result"
    }
   ],
   "source": [
    "train_df = pd.read_excel('train_first_response_only.xlsx')\n",
    "train_df"
   ]
  },
  {
   "cell_type": "code",
   "execution_count": 3,
   "id": "56e77226-b834-43c2-9dec-b78b67fa1790",
   "metadata": {},
   "outputs": [],
   "source": [
    "model_path = '/home/denis/Models/LLM/Mistral-7B-Instruct-v0.3_quantized_4bit/'"
   ]
  },
  {
   "cell_type": "markdown",
   "id": "440c0486-0fa5-4b8f-a00b-98bfaed5087c",
   "metadata": {},
   "source": [
    "Model's max number of tokens:"
   ]
  },
  {
   "cell_type": "code",
   "execution_count": 4,
   "id": "9421dd04-7c05-4a0c-8e69-0d5c55ff384c",
   "metadata": {},
   "outputs": [
    {
     "name": "stdout",
     "output_type": "stream",
     "text": [
      "{'architectures': ['MistralForCausalLM'], 'attention_dropout': 0.0, 'bos_token_id': 1, 'eos_token_id': 2, 'head_dim': None, 'hidden_act': 'silu', 'hidden_size': 4096, 'initializer_range': 0.02, 'intermediate_size': 14336, 'max_position_embeddings': 32768, 'model_type': 'mistral', 'num_attention_heads': 32, 'num_hidden_layers': 32, 'num_key_value_heads': 8, 'quantization_config': {'_load_in_4bit': True, '_load_in_8bit': False, 'bnb_4bit_compute_dtype': 'float16', 'bnb_4bit_quant_storage': 'uint8', 'bnb_4bit_quant_type': 'nf4', 'bnb_4bit_use_double_quant': True, 'llm_int8_enable_fp32_cpu_offload': False, 'llm_int8_has_fp16_weight': False, 'llm_int8_skip_modules': None, 'llm_int8_threshold': 6.0, 'load_in_4bit': True, 'load_in_8bit': False, 'quant_method': 'bitsandbytes'}, 'rms_norm_eps': 1e-05, 'rope_theta': 1000000.0, 'sliding_window': None, 'tie_word_embeddings': False, 'torch_dtype': 'float16', 'transformers_version': '4.52.4', 'use_cache': False, 'vocab_size': 32768}\n"
     ]
    }
   ],
   "source": [
    "with open(os.path.join(model_path, 'config.json')) as f:\n",
    "    model_config = json.load(f)\n",
    "print(model_config)"
   ]
  },
  {
   "cell_type": "code",
   "execution_count": 5,
   "id": "8b7b2dbc-75b7-46d6-b1d3-d864491959ff",
   "metadata": {},
   "outputs": [
    {
     "data": {
      "text/plain": [
       "32768"
      ]
     },
     "execution_count": 5,
     "metadata": {},
     "output_type": "execute_result"
    }
   ],
   "source": [
    "model_config['max_position_embeddings']"
   ]
  },
  {
   "cell_type": "markdown",
   "id": "bd077fe1-c37a-45c0-a372-418461b12d5b",
   "metadata": {},
   "source": [
    "Use a smaller number to save memory (checked that the maximum number of tokens in the train set is less than 2000)"
   ]
  },
  {
   "cell_type": "code",
   "execution_count": 6,
   "id": "32122244-cbce-4c5c-b90a-2d89a88f9769",
   "metadata": {},
   "outputs": [],
   "source": [
    "max_tokens = 2048"
   ]
  },
  {
   "cell_type": "code",
   "execution_count": 7,
   "id": "5c04acf1-400a-4d1c-b7bf-8bbb74e5e9c4",
   "metadata": {
    "scrolled": true
   },
   "outputs": [],
   "source": [
    "tokenizer = AutoTokenizer.from_pretrained(model_path)"
   ]
  },
  {
   "cell_type": "code",
   "execution_count": 8,
   "id": "8610ee27-3e14-4516-b9ac-5fb67f5c9f20",
   "metadata": {},
   "outputs": [],
   "source": [
    "tools = [\n",
    "    {\n",
    "        \"type\": \"function\",\n",
    "        \"function\": {\n",
    "            \"name\": \"get_hotels\",\n",
    "            \"description\": \"Find hotels with rooms available for booking in a given city between given check-in and check-out dates\",\n",
    "            \"parameters\": {\n",
    "                \"type\": \"object\",\n",
    "                \"properties\": {\n",
    "                    \"city\": {\n",
    "                        \"type\": \"string\",\n",
    "                        \"description\": \"The city where available hotels should be found\",\n",
    "                    },\n",
    "                    \"checkin_date\": {\n",
    "                        \"type\": \"string\",\n",
    "                        \"description\": \"Date when the user wants to check-in\",\n",
    "                    },\n",
    "                    \"checkout_date\": {\n",
    "                        \"type\": \"string\",\n",
    "                        \"description\": \"Date when the user wants to check-out\",\n",
    "                    }\n",
    "                },\n",
    "                \"required\": [\"city\", \"checkin_date\", \"checkout_date\"],\n",
    "            },\n",
    "        },\n",
    "    },\n",
    "    {\n",
    "        \"type\": \"function\",\n",
    "        \"function\": {\n",
    "            \"name\": \"book_hotel\",\n",
    "            \"description\": \"Book a room in the specified hotel from the provided check-in date to the provided check-out date\",\n",
    "            \"parameters\": {\n",
    "                \"type\": \"object\",\n",
    "                \"properties\": {\n",
    "                    \"name\": {\n",
    "                        \"type\": \"string\",\n",
    "                        \"description\": \"Name of the hotel where the user wants a room to be booked\",\n",
    "                    },\n",
    "                    \"city\": {\n",
    "                        \"type\": \"string\",\n",
    "                        \"description\": \"The city where the hotel is located\",\n",
    "                    },\n",
    "                    \"checkin_date\": {\n",
    "                        \"type\": \"string\",\n",
    "                        \"description\": \"Date when the user wants to check-in\",\n",
    "                    },\n",
    "                    \"checkout_date\": {\n",
    "                        \"type\": \"string\",\n",
    "                        \"description\": \"Date when the user wants to check-out\",\n",
    "                    }\n",
    "                },\n",
    "                \"required\": [\"name\", \"city\", \"checkin_date\", \"checkout_date\"],\n",
    "            },\n",
    "        },\n",
    "    }\n",
    "]"
   ]
  },
  {
   "cell_type": "code",
   "execution_count": 9,
   "id": "0b92e1ce-19bb-4872-a3de-bb589621e277",
   "metadata": {},
   "outputs": [],
   "source": [
    "ds = Dataset.from_pandas(train_df[['query', 'llm_response_1']], split=\"train\", preserve_index=False)"
   ]
  },
  {
   "cell_type": "code",
   "execution_count": 10,
   "id": "ab2b8307-997f-45e7-8909-8359801d3b99",
   "metadata": {},
   "outputs": [],
   "source": [
    "def preprocess_function(examples):\n",
    "    inputs = [\n",
    "        f'''System:\n",
    "{system_message_1}\n",
    "Tools:\n",
    "{json.dumps(tools, indent=2)}\n",
    "User request:\n",
    "{query}'''\n",
    "        for query in examples[\"query\"]\n",
    "    ]\n",
    "    targets = examples[\"llm_response_1\"]\n",
    "    model_inputs = tokenizer(\n",
    "        inputs,\n",
    "        padding='max_length',\n",
    "        truncation=True,\n",
    "        max_length=max_tokens\n",
    "        \n",
    "    )\n",
    "    labels = tokenizer(\n",
    "        targets,\n",
    "        padding='max_length',\n",
    "        truncation=True,\n",
    "        max_length=max_tokens\n",
    "    )\n",
    "    model_inputs[\"labels\"] = labels[\"input_ids\"] \n",
    "    return model_inputs"
   ]
  },
  {
   "cell_type": "code",
   "execution_count": 11,
   "id": "c2b49c85-8190-4c4d-907b-603a8275ecdd",
   "metadata": {},
   "outputs": [
    {
     "data": {
      "application/vnd.jupyter.widget-view+json": {
       "model_id": "e2cfc4d37155480688756d2902633b64",
       "version_major": 2,
       "version_minor": 0
      },
      "text/plain": [
       "Map:   0%|          | 0/461 [00:00<?, ? examples/s]"
      ]
     },
     "metadata": {},
     "output_type": "display_data"
    }
   ],
   "source": [
    "tokenized_datasets = ds.map(preprocess_function, batched=True, remove_columns=ds.column_names)"
   ]
  },
  {
   "cell_type": "code",
   "execution_count": 12,
   "id": "895b3aa6-6637-4dde-8dcd-6ea25e81c454",
   "metadata": {},
   "outputs": [
    {
     "data": {
      "application/vnd.jupyter.widget-view+json": {
       "model_id": "e27f2089b1544e22a256a5a2a74176de",
       "version_major": 2,
       "version_minor": 0
      },
      "text/plain": [
       "Saving the dataset (0/1 shards):   0%|          | 0/461 [00:00<?, ? examples/s]"
      ]
     },
     "metadata": {},
     "output_type": "display_data"
    }
   ],
   "source": [
    "tokenized_datasets.save_to_disk('./train_ds_1st_stage/')"
   ]
  }
 ],
 "metadata": {
  "kernelspec": {
   "display_name": "Python 3 (ipykernel)",
   "language": "python",
   "name": "python3"
  },
  "language_info": {
   "codemirror_mode": {
    "name": "ipython",
    "version": 3
   },
   "file_extension": ".py",
   "mimetype": "text/x-python",
   "name": "python",
   "nbconvert_exporter": "python",
   "pygments_lexer": "ipython3",
   "version": "3.13.5"
  }
 },
 "nbformat": 4,
 "nbformat_minor": 5
}
