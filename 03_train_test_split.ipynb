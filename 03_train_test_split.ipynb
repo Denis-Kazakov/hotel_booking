{
 "cells": [
  {
   "cell_type": "code",
   "execution_count": 1,
   "id": "89ff50ac-1f87-4c19-a507-f2bb41865c6e",
   "metadata": {},
   "outputs": [],
   "source": [
    "import pandas as pd"
   ]
  },
  {
   "cell_type": "code",
   "execution_count": 2,
   "id": "da2c747c-dda3-46d7-9bbc-3824da6e7ef7",
   "metadata": {},
   "outputs": [
    {
     "data": {
      "text/html": [
       "<div>\n",
       "<style scoped>\n",
       "    .dataframe tbody tr th:only-of-type {\n",
       "        vertical-align: middle;\n",
       "    }\n",
       "\n",
       "    .dataframe tbody tr th {\n",
       "        vertical-align: top;\n",
       "    }\n",
       "\n",
       "    .dataframe thead th {\n",
       "        text-align: right;\n",
       "    }\n",
       "</style>\n",
       "<table border=\"1\" class=\"dataframe\">\n",
       "  <thead>\n",
       "    <tr style=\"text-align: right;\">\n",
       "      <th></th>\n",
       "      <th>available</th>\n",
       "      <th>query</th>\n",
       "    </tr>\n",
       "  </thead>\n",
       "  <tbody>\n",
       "    <tr>\n",
       "      <th>0</th>\n",
       "      <td>True</td>\n",
       "      <td>Can you provide me with a list of hotels avai...</td>\n",
       "    </tr>\n",
       "    <tr>\n",
       "      <th>1</th>\n",
       "      <td>True</td>\n",
       "      <td>Could you please provide a list of hotels ava...</td>\n",
       "    </tr>\n",
       "    <tr>\n",
       "      <th>2</th>\n",
       "      <td>True</td>\n",
       "      <td>Hey there, could you please provide me with a...</td>\n",
       "    </tr>\n",
       "    <tr>\n",
       "      <th>3</th>\n",
       "      <td>True</td>\n",
       "      <td>Can you provide a list of hotels available fo...</td>\n",
       "    </tr>\n",
       "    <tr>\n",
       "      <th>4</th>\n",
       "      <td>True</td>\n",
       "      <td>Hi there! I'm looking for hotel availability ...</td>\n",
       "    </tr>\n",
       "    <tr>\n",
       "      <th>...</th>\n",
       "      <td>...</td>\n",
       "      <td>...</td>\n",
       "    </tr>\n",
       "    <tr>\n",
       "      <th>575</th>\n",
       "      <td>True</td>\n",
       "      <td>Subject: Room Reservation Request at Premier ...</td>\n",
       "    </tr>\n",
       "    <tr>\n",
       "      <th>576</th>\n",
       "      <td>True</td>\n",
       "      <td>Hello there! I'd like to make a reservation a...</td>\n",
       "    </tr>\n",
       "    <tr>\n",
       "      <th>577</th>\n",
       "      <td>True</td>\n",
       "      <td>Dear Hotel Reservation,\\n\\nI'd like to make a...</td>\n",
       "    </tr>\n",
       "    <tr>\n",
       "      <th>578</th>\n",
       "      <td>True</td>\n",
       "      <td>Hey there! I'd like to reserve a room at the ...</td>\n",
       "    </tr>\n",
       "    <tr>\n",
       "      <th>579</th>\n",
       "      <td>True</td>\n",
       "      <td>Hello, I'd like to make a reservation for a r...</td>\n",
       "    </tr>\n",
       "  </tbody>\n",
       "</table>\n",
       "<p>580 rows × 2 columns</p>\n",
       "</div>"
      ],
      "text/plain": [
       "     available                                              query\n",
       "0         True   Can you provide me with a list of hotels avai...\n",
       "1         True   Could you please provide a list of hotels ava...\n",
       "2         True   Hey there, could you please provide me with a...\n",
       "3         True   Can you provide a list of hotels available fo...\n",
       "4         True   Hi there! I'm looking for hotel availability ...\n",
       "..         ...                                                ...\n",
       "575       True   Subject: Room Reservation Request at Premier ...\n",
       "576       True   Hello there! I'd like to make a reservation a...\n",
       "577       True   Dear Hotel Reservation,\\n\\nI'd like to make a...\n",
       "578       True   Hey there! I'd like to reserve a room at the ...\n",
       "579       True   Hello, I'd like to make a reservation for a r...\n",
       "\n",
       "[580 rows x 2 columns]"
      ]
     },
     "execution_count": 2,
     "metadata": {},
     "output_type": "execute_result"
    }
   ],
   "source": [
    "df = pd.read_excel('dataset_final.xlsx')\n",
    "df"
   ]
  },
  {
   "cell_type": "code",
   "execution_count": 3,
   "id": "4a818352-5d48-4398-b99d-172d879abaad",
   "metadata": {},
   "outputs": [],
   "source": [
    "train = df.sample(frac=0.8,random_state=42)\n",
    "test = df.drop(train.index)"
   ]
  },
  {
   "cell_type": "code",
   "execution_count": 6,
   "id": "17a36670-71c9-43a4-8932-b1c4f7d9348a",
   "metadata": {},
   "outputs": [],
   "source": [
    "train.to_csv('train.csv', index=False)"
   ]
  },
  {
   "cell_type": "code",
   "execution_count": 7,
   "id": "9ea14d8c-0a0f-41e7-8da6-bfc4a5b49215",
   "metadata": {},
   "outputs": [],
   "source": [
    "test.to_csv('test.csv', index=False)"
   ]
  }
 ],
 "metadata": {
  "kernelspec": {
   "display_name": "Python 3 (ipykernel)",
   "language": "python",
   "name": "python3"
  },
  "language_info": {
   "codemirror_mode": {
    "name": "ipython",
    "version": 3
   },
   "file_extension": ".py",
   "mimetype": "text/x-python",
   "name": "python",
   "nbconvert_exporter": "python",
   "pygments_lexer": "ipython3",
   "version": "3.13.5"
  }
 },
 "nbformat": 4,
 "nbformat_minor": 5
}
