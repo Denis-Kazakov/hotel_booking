{
 "cells": [
  {
   "cell_type": "markdown",
   "id": "392d174b-8353-41dc-b004-d22e802101fb",
   "metadata": {},
   "source": [
    "# Evaluate baseline results"
   ]
  },
  {
   "cell_type": "code",
   "execution_count": 1,
   "id": "b9144e35-bd70-4fe2-8ca4-b16206ffb13e",
   "metadata": {},
   "outputs": [],
   "source": [
    "import pandas as pd"
   ]
  },
  {
   "cell_type": "code",
   "execution_count": 2,
   "id": "9b796128-eaf6-4eb3-9930-6d70ff10f0b8",
   "metadata": {},
   "outputs": [
    {
     "data": {
      "text/html": [
       "<div>\n",
       "<style scoped>\n",
       "    .dataframe tbody tr th:only-of-type {\n",
       "        vertical-align: middle;\n",
       "    }\n",
       "\n",
       "    .dataframe tbody tr th {\n",
       "        vertical-align: top;\n",
       "    }\n",
       "\n",
       "    .dataframe thead th {\n",
       "        text-align: right;\n",
       "    }\n",
       "</style>\n",
       "<table border=\"1\" class=\"dataframe\">\n",
       "  <thead>\n",
       "    <tr style=\"text-align: right;\">\n",
       "      <th></th>\n",
       "      <th>available</th>\n",
       "      <th>query</th>\n",
       "      <th>llm_response_1</th>\n",
       "      <th>correct_1</th>\n",
       "      <th>llm_response_2</th>\n",
       "      <th>correct_2</th>\n",
       "    </tr>\n",
       "  </thead>\n",
       "  <tbody>\n",
       "    <tr>\n",
       "      <th>0</th>\n",
       "      <td>True</td>\n",
       "      <td>Could you please provide a list of hotels ava...</td>\n",
       "      <td>{'comment': '', 'function_calls': [{'name': 'g...</td>\n",
       "      <td>1</td>\n",
       "      <td>Based on the response from the booking servic...</td>\n",
       "      <td>1</td>\n",
       "    </tr>\n",
       "    <tr>\n",
       "      <th>1</th>\n",
       "      <td>True</td>\n",
       "      <td>Could you please provide me with a list of ho...</td>\n",
       "      <td>{'comment': '', 'function_calls': [{'name': 'g...</td>\n",
       "      <td>1</td>\n",
       "      <td>Based on the response from the booking servic...</td>\n",
       "      <td>1</td>\n",
       "    </tr>\n",
       "    <tr>\n",
       "      <th>2</th>\n",
       "      <td>True</td>\n",
       "      <td>Hey there! I'm looking for hotel options in M...</td>\n",
       "      <td>{'comment': '', 'function_calls': [{'name': 'g...</td>\n",
       "      <td>1</td>\n",
       "      <td>Based on the response from the booking servic...</td>\n",
       "      <td>1</td>\n",
       "    </tr>\n",
       "    <tr>\n",
       "      <th>3</th>\n",
       "      <td>True</td>\n",
       "      <td>Hi there! I'm looking for hotels in Shanghai ...</td>\n",
       "      <td>{'comment': 'Missing hotel name', 'function_ca...</td>\n",
       "      <td>0</td>\n",
       "      <td>Hello! I'm here to help you find hotels in Sh...</td>\n",
       "      <td>1</td>\n",
       "    </tr>\n",
       "    <tr>\n",
       "      <th>4</th>\n",
       "      <td>False</td>\n",
       "      <td>Could you please provide me with a list of ho...</td>\n",
       "      <td>{'comment': '', 'function_calls': [{'name': 'g...</td>\n",
       "      <td>1</td>\n",
       "      <td>I'm sorry for any inconvenience, but it appea...</td>\n",
       "      <td>1</td>\n",
       "    </tr>\n",
       "    <tr>\n",
       "      <th>...</th>\n",
       "      <td>...</td>\n",
       "      <td>...</td>\n",
       "      <td>...</td>\n",
       "      <td>...</td>\n",
       "      <td>...</td>\n",
       "      <td>...</td>\n",
       "    </tr>\n",
       "    <tr>\n",
       "      <th>109</th>\n",
       "      <td>True</td>\n",
       "      <td>Hey there! I'm interested in booking a room a...</td>\n",
       "      <td>{'comment': '', 'function_calls': [{'name': 'b...</td>\n",
       "      <td>1</td>\n",
       "      <td>I'm sorry for the inconvenience. The booking ...</td>\n",
       "      <td>0</td>\n",
       "    </tr>\n",
       "    <tr>\n",
       "      <th>110</th>\n",
       "      <td>True</td>\n",
       "      <td>Hello, I'd like to make a reservation at The ...</td>\n",
       "      <td>{'comment': '', 'function_calls': [{'name': 'g...</td>\n",
       "      <td>0</td>\n",
       "      <td>I'm sorry for any inconvenience. The Ritz-Car...</td>\n",
       "      <td>0</td>\n",
       "    </tr>\n",
       "    <tr>\n",
       "      <th>111</th>\n",
       "      <td>True</td>\n",
       "      <td>Subject: Room Reservation Inquiry - Emberline...</td>\n",
       "      <td>{'comment': '', 'function_calls': [{'name': 'b...</td>\n",
       "      <td>1</td>\n",
       "      <td>Dear User,\\n\\nThank you for your inquiry rega...</td>\n",
       "      <td>0</td>\n",
       "    </tr>\n",
       "    <tr>\n",
       "      <th>112</th>\n",
       "      <td>True</td>\n",
       "      <td>Hi there, I'd like to make a reservation at T...</td>\n",
       "      <td>{'comment': 'User provided correct data.', 'fu...</td>\n",
       "      <td>1</td>\n",
       "      <td>I'm sorry for any inconvenience, but it seems...</td>\n",
       "      <td>0</td>\n",
       "    </tr>\n",
       "    <tr>\n",
       "      <th>113</th>\n",
       "      <td>True</td>\n",
       "      <td>Dear Hotel Reservation,\\n\\nI'd like to make a...</td>\n",
       "      <td>{'comment': '', 'function_calls': [{'name': 'b...</td>\n",
       "      <td>1</td>\n",
       "      <td>Dear User,\\n\\nI'm sorry for any inconvenience...</td>\n",
       "      <td>0</td>\n",
       "    </tr>\n",
       "  </tbody>\n",
       "</table>\n",
       "<p>114 rows × 6 columns</p>\n",
       "</div>"
      ],
      "text/plain": [
       "     available                                              query  \\\n",
       "0         True   Could you please provide a list of hotels ava...   \n",
       "1         True   Could you please provide me with a list of ho...   \n",
       "2         True   Hey there! I'm looking for hotel options in M...   \n",
       "3         True   Hi there! I'm looking for hotels in Shanghai ...   \n",
       "4        False   Could you please provide me with a list of ho...   \n",
       "..         ...                                                ...   \n",
       "109       True   Hey there! I'm interested in booking a room a...   \n",
       "110       True   Hello, I'd like to make a reservation at The ...   \n",
       "111       True   Subject: Room Reservation Inquiry - Emberline...   \n",
       "112       True   Hi there, I'd like to make a reservation at T...   \n",
       "113       True   Dear Hotel Reservation,\\n\\nI'd like to make a...   \n",
       "\n",
       "                                        llm_response_1  correct_1  \\\n",
       "0    {'comment': '', 'function_calls': [{'name': 'g...          1   \n",
       "1    {'comment': '', 'function_calls': [{'name': 'g...          1   \n",
       "2    {'comment': '', 'function_calls': [{'name': 'g...          1   \n",
       "3    {'comment': 'Missing hotel name', 'function_ca...          0   \n",
       "4    {'comment': '', 'function_calls': [{'name': 'g...          1   \n",
       "..                                                 ...        ...   \n",
       "109  {'comment': '', 'function_calls': [{'name': 'b...          1   \n",
       "110  {'comment': '', 'function_calls': [{'name': 'g...          0   \n",
       "111  {'comment': '', 'function_calls': [{'name': 'b...          1   \n",
       "112  {'comment': 'User provided correct data.', 'fu...          1   \n",
       "113  {'comment': '', 'function_calls': [{'name': 'b...          1   \n",
       "\n",
       "                                        llm_response_2  correct_2  \n",
       "0     Based on the response from the booking servic...          1  \n",
       "1     Based on the response from the booking servic...          1  \n",
       "2     Based on the response from the booking servic...          1  \n",
       "3     Hello! I'm here to help you find hotels in Sh...          1  \n",
       "4     I'm sorry for any inconvenience, but it appea...          1  \n",
       "..                                                 ...        ...  \n",
       "109   I'm sorry for the inconvenience. The booking ...          0  \n",
       "110   I'm sorry for any inconvenience. The Ritz-Car...          0  \n",
       "111   Dear User,\\n\\nThank you for your inquiry rega...          0  \n",
       "112   I'm sorry for any inconvenience, but it seems...          0  \n",
       "113   Dear User,\\n\\nI'm sorry for any inconvenience...          0  \n",
       "\n",
       "[114 rows x 6 columns]"
      ]
     },
     "execution_count": 2,
     "metadata": {},
     "output_type": "execute_result"
    }
   ],
   "source": [
    "results = pd.read_excel('baseline_test_results.xlsx')\n",
    "results"
   ]
  },
  {
   "cell_type": "markdown",
   "id": "86c265f9-b527-4c01-8831-835bfe3daa72",
   "metadata": {},
   "source": [
    "Share of correct output from the first call to LLM:"
   ]
  },
  {
   "cell_type": "code",
   "execution_count": 5,
   "id": "ce13b73e-1eae-4b49-a858-6eba02a5e013",
   "metadata": {},
   "outputs": [
    {
     "data": {
      "text/plain": [
       "0.7894736842105263"
      ]
     },
     "execution_count": 5,
     "metadata": {},
     "output_type": "execute_result"
    }
   ],
   "source": [
    "results.correct_1.mean().item()"
   ]
  },
  {
   "cell_type": "markdown",
   "id": "918a4609-b3d8-43de-8ed7-7b1b67c1d542",
   "metadata": {},
   "source": [
    "Share of correct output from the second call to LLM:"
   ]
  },
  {
   "cell_type": "code",
   "execution_count": 6,
   "id": "2d5e384d-42c6-4826-90a1-7a63a2849059",
   "metadata": {},
   "outputs": [
    {
     "data": {
      "text/plain": [
       "0.5964912280701754"
      ]
     },
     "execution_count": 6,
     "metadata": {},
     "output_type": "execute_result"
    }
   ],
   "source": [
    "results.correct_2.mean().item()"
   ]
  },
  {
   "cell_type": "markdown",
   "id": "358a9424-6fbf-45ca-9a7a-77471830378f",
   "metadata": {},
   "source": [
    "## Conclusion\n",
    "Fist call to the LLM generates correct function calls or messages in 78% cases. The second call results are much worse at 60%, with the model often erroneously stating that many requested hotels are in Moscow."
   ]
  }
 ],
 "metadata": {
  "kernelspec": {
   "display_name": "Python 3 (ipykernel)",
   "language": "python",
   "name": "python3"
  },
  "language_info": {
   "codemirror_mode": {
    "name": "ipython",
    "version": 3
   },
   "file_extension": ".py",
   "mimetype": "text/x-python",
   "name": "python",
   "nbconvert_exporter": "python",
   "pygments_lexer": "ipython3",
   "version": "3.13.5"
  }
 },
 "nbformat": 4,
 "nbformat_minor": 5
}
