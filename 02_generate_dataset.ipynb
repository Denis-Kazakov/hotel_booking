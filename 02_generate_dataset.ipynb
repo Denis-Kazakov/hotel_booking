{
 "cells": [
  {
   "cell_type": "markdown",
   "id": "ec60c850-9b9e-4208-a989-a6c07fde7e3d",
   "metadata": {},
   "source": [
    "# Generate a synthetic dataset\n",
    "Generate valid and invalid queries, including queries about unavailable hotels and irrelevant questions."
   ]
  },
  {
   "cell_type": "code",
   "execution_count": 1,
   "id": "2c57d4a9-6373-4e12-8432-0e0aea8a030d",
   "metadata": {},
   "outputs": [],
   "source": [
    "import random\n",
    "from datetime import date, timedelta\n",
    "\n",
    "import pandas as pd\n",
    "from ollama import ChatResponse, chat\n",
    "from tqdm import tqdm\n",
    "\n",
    "%load_ext chime"
   ]
  },
  {
   "cell_type": "code",
   "execution_count": 2,
   "id": "100f142d-1c8d-4d47-b085-655aaafbcdc8",
   "metadata": {},
   "outputs": [],
   "source": [
    "def generate_random_date(start_date: date, end_date: date):\n",
    "    \"\"\"\n",
    "    Generates a random date between two given datetime objects (inclusive).\n",
    "\n",
    "    Args:\n",
    "        start_date (datetime): The beginning of the date range.\n",
    "        end_date (datetime): The end of the date range.\n",
    "\n",
    "    Returns:\n",
    "        datetime: A randomly generated date within the specified range.\n",
    "    \"\"\"\n",
    "    # Calculate the difference in days between the start and end dates\n",
    "    time_delta = end_date - start_date\n",
    "    total_seconds = time_delta.total_seconds()\n",
    "\n",
    "    # Generate a random number of seconds within that difference\n",
    "    random_seconds = random.uniform(0, total_seconds)\n",
    "\n",
    "    # Add the random seconds to the start date to get the random date\n",
    "    random_date = start_date + timedelta(seconds=random_seconds)\n",
    "    return random_date"
   ]
  },
  {
   "cell_type": "code",
   "execution_count": 3,
   "id": "a7691897-c550-412c-83d0-469c23ff3ec7",
   "metadata": {},
   "outputs": [],
   "source": [
    "def random_stay() -> tuple[date, date]:\n",
    "    \"\"\"Generate random check-in and check-out dates\"\"\"\n",
    "    START_OF_PERIOD = date(2025, 8, 1)\n",
    "    END_OF_PERIOD = date(2026, 8, 1)\n",
    "    check_in = generate_random_date(START_OF_PERIOD, END_OF_PERIOD)\n",
    "    check_out = generate_random_date(check_in, END_OF_PERIOD)\n",
    "    return check_in, check_out"
   ]
  },
  {
   "cell_type": "code",
   "execution_count": 4,
   "id": "0d403447-ef81-4196-a937-66e9f9aa7cc7",
   "metadata": {},
   "outputs": [],
   "source": [
    "hotels_df = pd.read_csv('hotel_db.csv')"
   ]
  },
  {
   "cell_type": "markdown",
   "id": "dfcde675-5c1e-471c-aab0-baa4dd939a45",
   "metadata": {},
   "source": [
    "List of cities including some that are not in the hotels database"
   ]
  },
  {
   "cell_type": "code",
   "execution_count": 5,
   "id": "deac1022-a095-4dd0-b14e-bc41beec72b9",
   "metadata": {},
   "outputs": [
    {
     "data": {
      "text/plain": [
       "['Mumbai',\n",
       " 'Cairo',\n",
       " 'Jakarta',\n",
       " 'Karachi',\n",
       " 'Seoul',\n",
       " 'Guangzhou',\n",
       " 'Beijing',\n",
       " 'Sao Paulo',\n",
       " 'Kolkata',\n",
       " 'Manila',\n",
       " 'Tokyo',\n",
       " 'Shanghai',\n",
       " 'Dhaka',\n",
       " 'Delhi',\n",
       " 'Mexico City',\n",
       " 'Moscow',\n",
       " 'Shenzhen',\n",
       " 'New York',\n",
       " 'Bangkok',\n",
       " 'Cape Town',\n",
       " 'Los Angeles',\n",
       " 'Keokuk',\n",
       " 'Paris']"
      ]
     },
     "execution_count": 5,
     "metadata": {},
     "output_type": "execute_result"
    }
   ],
   "source": [
    "existing_cities = list(set(hotels_df.city.to_list()))\n",
    "cities = existing_cities + ['Cape Town', 'Los Angeles', 'Keokuk', 'Paris']\n",
    "cities"
   ]
  },
  {
   "cell_type": "markdown",
   "id": "0c80ac7f-5f9e-4aab-827a-47a104426c27",
   "metadata": {},
   "source": [
    "List of hotels including some that are not in the hotels database"
   ]
  },
  {
   "cell_type": "code",
   "execution_count": 6,
   "id": "9a060f63-7de6-4d04-8f37-4f62dd888fb4",
   "metadata": {},
   "outputs": [
    {
     "data": {
      "text/plain": [
       "['Crowne Plaza',\n",
       " 'Premier Boutique Stay',\n",
       " 'Majestic Moments',\n",
       " 'Serenity Sands',\n",
       " 'Urban Luxe Suites',\n",
       " 'Signature Boutique Hotel',\n",
       " 'Hotel Excellence Artistry',\n",
       " 'The Luxury Collection',\n",
       " 'Four Seasons',\n",
       " 'InterContinental',\n",
       " 'The Exquisite Retreat',\n",
       " 'Solara Retreat',\n",
       " 'Hilton',\n",
       " 'Sheraton',\n",
       " \"Enigma's Embrace Haven\",\n",
       " 'Prime Prestige Studio',\n",
       " 'Elite Craft Hotel',\n",
       " 'Whispering Dreams',\n",
       " 'Emberline Hotel',\n",
       " 'Crafting Comfort Legacy',\n",
       " 'Artisan Hotel Collective',\n",
       " 'Majestic Urban Boutique',\n",
       " 'Masterpiece Manor',\n",
       " 'The Velvet Key',\n",
       " 'The Heritage Corner',\n",
       " 'LegacyCraft Suites',\n",
       " 'The Ritz-Carlton',\n",
       " 'The Gilded Harbor',\n",
       " 'Marrow & Stone',\n",
       " 'Supreme Solitude',\n",
       " 'Hyatt',\n",
       " 'CityView Boutique',\n",
       " 'Hotel Artistry Studio',\n",
       " 'Opulent Overlook',\n",
       " 'Pinnacle Perfection',\n",
       " 'Havencrest Inn',\n",
       " 'Elite Escapes Oasis',\n",
       " 'Epic Estates',\n",
       " 'St. Regis',\n",
       " 'Marriott',\n",
       " 'Regal Charm Boutique',\n",
       " 'Funny Inn',\n",
       " 'Nowhere Near',\n",
       " 'Keokuk Plaza',\n",
       " 'Golden Palace',\n",
       " 'Perfect Bliss']"
      ]
     },
     "execution_count": 6,
     "metadata": {},
     "output_type": "execute_result"
    }
   ],
   "source": [
    "hotels = list(set(hotels_df.name.to_list()))\n",
    "hotels.extend(['Funny Inn', 'Nowhere Near', 'Keokuk Plaza', 'Golden Palace', 'Perfect Bliss'])\n",
    "hotels"
   ]
  },
  {
   "cell_type": "code",
   "execution_count": 7,
   "id": "b139faf0-bff2-40c9-8f59-fd4953573931",
   "metadata": {},
   "outputs": [],
   "source": [
    "user_queries = []"
   ]
  },
  {
   "cell_type": "code",
   "execution_count": 8,
   "id": "62e4008e-d832-4f2d-9b7a-a3e377ab3824",
   "metadata": {},
   "outputs": [],
   "source": [
    "def generate_query(prompt: str) -> str:\n",
    "    system_message = 'Talk like a user interested in booking a hotel room. Your requests should be short. Do not ask for extra information'\n",
    "    response: ChatResponse = chat(\n",
    "        'mistral',\n",
    "        messages=[\n",
    "            {'role': 'system', 'content': system_message},\n",
    "            {'role': 'user', 'content': prompt}\n",
    "        ],\n",
    "        stream=False,\n",
    "        options={'temperature': 1.0}\n",
    "    )\n",
    "    return response.message.content"
   ]
  },
  {
   "cell_type": "markdown",
   "id": "ec7927db-3e24-48b0-a310-18043d381028",
   "metadata": {},
   "source": [
    "Generate valid availability queries:"
   ]
  },
  {
   "cell_type": "code",
   "execution_count": 9,
   "id": "bd021a31-67e0-4f95-906e-37632ab78c7a",
   "metadata": {},
   "outputs": [
    {
     "name": "stderr",
     "output_type": "stream",
     "text": [
      "100%|█████████████████████████████████████████| 128/128 [03:01<00:00,  1.42s/it]\n"
     ]
    }
   ],
   "source": [
    "for _ in tqdm(range(128)):\n",
    "    city = random.choice(cities)\n",
    "    check_in, check_out = random_stay()\n",
    "    user_queries.append(\n",
    "        {\n",
    "            'available': city in existing_cities,\n",
    "            'query': generate_query(f'Inquire about hotels available in {city} from {check_in} to {check_out}')\n",
    "        }\n",
    "    )"
   ]
  },
  {
   "cell_type": "code",
   "execution_count": 10,
   "id": "b08f8078-a215-4cc8-b065-51b6a4b1c795",
   "metadata": {
    "scrolled": true
   },
   "outputs": [
    {
     "data": {
      "text/plain": [
       "[{'available': True,\n",
       "  'query': ' Can you provide me with a list of hotels available for stay in Moscow, Russia from August 14, 2025, to May 5, 2026? Please include details such as the hotel name, star rating, and average nightly rate.'},\n",
       " {'available': True,\n",
       "  'query': ' Could you please provide a list of hotels available for stay in Jakarta, Indonesia from February 16, 2026 to July 9, 2026? Thanks!'},\n",
       " {'available': True,\n",
       "  'query': ' \"Hey there, could you please provide me with a list of hotels available in Seoul from August 7, 2025, to July 23, 2026? I\\'m looking forward to seeing the options.\"'},\n",
       " {'available': True,\n",
       "  'query': ' \"Can you provide a list of hotels available for stay in Bangkok from August 26, 2025, to September 17, 2025?\"'},\n",
       " {'available': True,\n",
       "  'query': ' \"Hi there! I\\'m looking for hotel availability in Sao Paulo from December 5, 2025, to February 12, 2026. Could you please provide me with some options and prices?\"'},\n",
       " {'available': False,\n",
       "  'query': \" Hello! I'm looking for a hotel in Paris, France for one night stay on June 26, 2026. Could you please provide me with some options and their rates? Thanks!\"},\n",
       " {'available': True,\n",
       "  'query': ' \"Could you please provide me with a list of available hotels in Shanghai from September 11, 2025, to January 19, 2026?\"'},\n",
       " {'available': False,\n",
       "  'query': ' Could you please provide me with a list of available hotels in Cape Town from June 21, 2026, to July 25, 2026? Also, could you check if there are any special offers or discounts for these dates? Thank you.'},\n",
       " {'available': True,\n",
       "  'query': ' \"Could you please provide me with a list of hotels available for booking in Bangkok between August 13, 2025, and January 7, 2026?\"'},\n",
       " {'available': True,\n",
       "  'query': ' \"Can you provide a list of hotels available for booking in Mexico City from October 19, 2025, to April 26, 2026?\"'},\n",
       " {'available': True,\n",
       "  'query': ' \"Can you provide a list of hotels in Bangkok that are available for booking from July 5, 2026, to July 9, 2026?\"'},\n",
       " {'available': True,\n",
       "  'query': ' \"Hey there! Could you please provide me with a list of hotels available in Jakarta from June 25, 2026, to July 6, 2026?\"'},\n",
       " {'available': True,\n",
       "  'query': ' Could you please provide a list of hotels available for booking in Tokyo, Japan between September 17, 2025 and June 16, 2026? I am interested in knowing the accommodation options and their respective prices.'},\n",
       " {'available': True,\n",
       "  'query': ' \"Hey there! I\\'m looking for hotel options in Moscow from July 23, 2026, to July 29, 2026. Could you please provide me with some recommendations?\"'},\n",
       " {'available': True,\n",
       "  'query': ' \"Hi there! I\\'m looking for hotels in Shanghai from June 5, 2026, to June 9, 2026. Could you please provide a list of available options with their rates and amenities?\"'},\n",
       " {'available': True,\n",
       "  'query': ' \"Could you please provide a list of hotels available in Shanghai for the duration from January 23, 2026 to May 21, 2026?\"'},\n",
       " {'available': True,\n",
       "  'query': ' \"Could you please provide a list of hotels available for booking in Cairo from July 14, 2026, to July 18, 2026?\"'},\n",
       " {'available': True,\n",
       "  'query': ' \"Hi there! I\\'m looking for hotel options in Beijing, China, for a stay between December 20, 2025, and May 19, 2026. Could you please provide me with some suggestions?\"'},\n",
       " {'available': False,\n",
       "  'query': ' Can you provide a list of hotels available in Cape Town, South Africa from April 23, 2026 to June 12, 2026? Also, please include the room rates and any special offers or discounts that might be applicable. Thank you!'},\n",
       " {'available': True,\n",
       "  'query': ' \"Can you provide me with a list of hotels available in Shanghai between April 30, 2026 and May 5, 2026?\"'},\n",
       " {'available': False,\n",
       "  'query': ' \"Could you please provide me with a list of hotels available for booking in Keokuk from September 13, 2025, to May 2, 2026? I\\'d appreciate details such as room types, rates, and amenities.\"'},\n",
       " {'available': True,\n",
       "  'query': ' \"Hey there, I\\'m looking to book a hotel stay in Seoul, South Korea from October 18, 2025, to February 17, 2026. Could you please provide me with some options for hotels available during this period?\"'},\n",
       " {'available': True,\n",
       "  'query': ' \"Could you please provide me with a list of hotels available for booking in New York City, from September 27, 2025, through October 24, 2025?\"'},\n",
       " {'available': True,\n",
       "  'query': \" Can you please provide me with a list of hotels available for booking in Manila from July 18, 2026, to July 26, 2026? I'd appreciate it if you could also include the room rates and any special offers or amenities.\"},\n",
       " {'available': True,\n",
       "  'query': ' Could you please provide me with a list of hotels available in Kolkata from October 2, 2025, to November 13, 2025? Also, could you share the room rates for each hotel during that period? Thank you.'},\n",
       " {'available': False,\n",
       "  'query': ' Here\\'s a possible request for hotels in Cape Town from December 16, 2025, to April 13, 2026:\\n\\n\"Hey there! I\\'m looking to book a hotel room in beautiful Cape Town. Can you provide me with some options for stays between December 16, 2025, and April 13, 2026? I\\'d appreciate it if you could include any special deals or offers for these dates.\"\\n\\nI hope this helps! Let me know if you need anything else.'},\n",
       " {'available': True,\n",
       "  'query': ' \"Hey there! Can you help me find hotels available for stay in Mexico City, from August 27, 2025, to March 5, 2026?\"'},\n",
       " {'available': True,\n",
       "  'query': ' \"Hey there! I\\'m looking for hotels in Moscow, Russia, for a stay from May 7, 2026, to May 31, 2026. Could you please provide me with some options and their availability?\"'},\n",
       " {'available': True,\n",
       "  'query': \" Could you please provide a list of hotels available for booking in Karachi, Pakistan from June 26, 2026 to July 12, 2026? I'd appreciate details such as room type, rates, and amenities offered.\"},\n",
       " {'available': True,\n",
       "  'query': ' Could you please provide me with the list of hotels available for booking in Karachi from June 11, 2026, to June 24, 2026?'},\n",
       " {'available': False,\n",
       "  'query': ' \"Hey there! I\\'m looking for hotel options in Los Angeles from October 20, 2025, to March 28, 2026. Could you please provide some suggestions?\"'},\n",
       " {'available': False,\n",
       "  'query': ' \"Hi there! I\\'m looking for available hotels in Cape Town, South Africa from March 31, 2026 to May 11, 2026. Could you please provide me with some options and rates for this duration?\"'},\n",
       " {'available': False,\n",
       "  'query': ' Could you please provide me with a list of hotels available in Paris between October 11, 2025, and November 23, 2025?'},\n",
       " {'available': True,\n",
       "  'query': ' \"Hey there! Could you please help me find hotels available in New York from September 20, 2025, to October 17, 2025?\"'},\n",
       " {'available': True,\n",
       "  'query': ' \"Hi, I\\'m looking for available hotels in Manila from February 1, 2026, to February 27, 2026. Could you please provide a list of options with their rates and amenities?\"'},\n",
       " {'available': False,\n",
       "  'query': ' \"Hello, I\\'m looking for available hotels in Keokuk from December 22, 2025, to March 2, 2026. Could you please provide me with some options and their rates?\"'},\n",
       " {'available': True,\n",
       "  'query': ' Inquiry for hotels available in Beijing from February 16, 2026, to May 23, 2026. Please provide a list of options with rates and amenities.'},\n",
       " {'available': True,\n",
       "  'query': ' \"Can you provide me with a list of hotels available for booking in Mumbai between April 1, 2026, and April 30, 2026?\"'},\n",
       " {'available': False,\n",
       "  'query': \" Here's a possible conversation between a user and an assistant focused on booking a hotel room in Cape Town, South Africa, for the period May 19-June 3, 2026:\\n\\nAssistant: Hello! I can help you find hotels in Cape Town from May 19 to June 3, 2026. Are you looking for a specific type of accommodation or do you need suggestions?\\n\\nUser: I'm open to suggestions. Please recommend some hotels in Cape Town during that timeframe.\\n\\nAssistant: Great! I found a few options for you. Here are my top picks:\\n\\n1. The Twelve Apostles Hotel and Spa - Luxury, ocean-front accommodation with panoramic views of the Atlantic Ocean and Table Mountain.\\n2. Silo Hotel - Located in a historic grain silo overlooking the V&A Waterfront, offering sleek, contemporary rooms and unique dining experiences.\\n3. Cape Grace - A elegant 5-star hotel situated on the Victoria & Alfred Waterfront with stunning views of Table Mountain and the working harbor.\\n4. The Westin Cape Town - Centrally located near the V&A Waterfront, offering stylish accommodation, a rooftop pool, and an on-site spa.\\n5. The Quayside Hotel - A budget-friendly option in the heart of the V&A Waterfront, with comfortable rooms and easy access to many attractions.\\n\\nPlease let me know if you'd like more information about any of these hotels or if you prefer a different area of Cape Town.\"},\n",
       " {'available': False,\n",
       "  'query': \" Could you please provide me with a list of hotels available in Los Angeles, California from April 21, 2026, to July 15, 2026? I'd appreciate options along with their rates and any special offers or amenities they might have. Thank you!\"},\n",
       " {'available': True,\n",
       "  'query': ' Can you provide me with a list of hotels available in Guangzhou, China from March 19 to April 2, 2026? Thank you.'},\n",
       " {'available': True,\n",
       "  'query': ' \"Can you provide me with a list of hotels available for booking in Karachi, Pakistan, between June 12, 2026, and July 27, 2026?\"'},\n",
       " {'available': False,\n",
       "  'query': ' \"Hey there! I\\'m looking for hotels in Paris, France from July 10, 2026 to July 24, 2026. Can you provide some options with available rooms during that period?\"'},\n",
       " {'available': True,\n",
       "  'query': \" Could you please provide me with a list of hotels available in New York between February 27, 2026, and June 17, 2026? I'd appreciate knowing the hotel name, star rating, and average nightly rate. If possible, also include any special offers or amenities. Thank you!\"},\n",
       " {'available': True,\n",
       "  'query': ' Could you please provide me with a list of hotels available for a stay in Delhi from April 17, 2026, to April 18, 2026? Thank you!'},\n",
       " {'available': True,\n",
       "  'query': ' Can you provide a list of hotels available for stay in Delhi between January 13, 2026, and February 3, 2026? Also, could you please mention the room rates for each hotel? Thank you.'},\n",
       " {'available': True,\n",
       "  'query': ' \"Hey there! I\\'m looking for hotel options in Mexico City from March 1st, 2026, to April 22nd, 2026. Can you please provide a list of available accommodations with their rates and any special offers during that period?\"'},\n",
       " {'available': True,\n",
       "  'query': ' \"Can you provide me with a list of available hotels in Seoul from December 8, 2025, to June 12, 2026?\"'},\n",
       " {'available': True,\n",
       "  'query': ' Can you provide a list of hotels available in Delhi between February 14, 2026, and April 7, 2026? Also, please include any available deals or special offers. Thank you!'},\n",
       " {'available': True,\n",
       "  'query': ' \"Hi, I\\'m looking for hotels available in Jakarta from October 27, 2025, to April 11, 2026. Could you please provide some options with details like star ratings, amenities, and price ranges?\"'},\n",
       " {'available': False,\n",
       "  'query': ' Can you provide a list of available hotels in Cape Town, South Africa, for the dates from April 7, 2026, to May 25, 2026?'},\n",
       " {'available': True,\n",
       "  'query': ' \"Hi, I\\'m looking for available hotels in New York City from February 6, 2026, to June 1, 2026. Can you provide some options for me please?\"'},\n",
       " {'available': True,\n",
       "  'query': ' Can you provide a list of hotels available in Bangkok from February 18, 2026, to June 26, 2026? Also, if possible, could you mention any special offers or discounts for those dates?'},\n",
       " {'available': True,\n",
       "  'query': \" I'm looking for hotel options in Delhi, India for the stay from July 11th, 2026, to July 29th, 2026. Could you please provide a list of available hotels along with their rates and amenities? Thank you!\"},\n",
       " {'available': True,\n",
       "  'query': \" Could you please provide me with a list of hotels available in New York from February 18, 2026, to July 28, 2026? I'd appreciate details such as room types, rates, and any special offers. Thank you!\"},\n",
       " {'available': True,\n",
       "  'query': ' \"Could you please provide me with a list of hotels available in Shanghai from October 10, 2025, to October 14, 2025?\"'},\n",
       " {'available': True,\n",
       "  'query': ' \"Could you please provide me with a list of hotels available in Moscow from November 12, 2025 to December 15, 2025?\"'},\n",
       " {'available': False,\n",
       "  'query': ' \"Can you please provide a list of hotels available for stay in Cape Town, South Africa, from November 21, 2025, to January 5, 2026?\"'},\n",
       " {'available': True,\n",
       "  'query': ' Could you please provide me with a list of hotels available in Jakarta from February 10, 2026, to June 17, 2026? Also, if possible, could you provide their respective rates for those dates?'},\n",
       " {'available': True,\n",
       "  'query': \" Hello, I'm looking for hotel accommodations in Sao Paulo from October 8, 2025, to May 23, 2026. Can you provide a list of hotels and their rates for this duration? Thank you.\"},\n",
       " {'available': True,\n",
       "  'query': ' \"Hey there! I\\'m looking for hotel availability in Manila, Philippines, from January 17, 2026, to April 8, 2026. Could you please provide a list of options along with their rates and amenities?\"'},\n",
       " {'available': False,\n",
       "  'query': ' \"Hey there! I\\'m looking for hotel availability on July 4, 2026, in Keokuk. Can you provide a list of accommodations that are available for one night stay?\"'},\n",
       " {'available': True,\n",
       "  'query': ' Can you provide a list of hotels available in Karachi, Pakistan between May 2, 2026, and July 5, 2026? If possible, could you also include any discounts or special offers that may be applicable during this period? Thank you.'},\n",
       " {'available': True,\n",
       "  'query': ' Can you provide a list of hotels in Seoul, South Korea with availability between January 9, 2026, and March 5, 2026?'},\n",
       " {'available': True,\n",
       "  'query': ' \"Can you provide me with a list of hotels available in Kolkata between November 18, 2025 and December 24, 2025?\"'},\n",
       " {'available': True,\n",
       "  'query': ' \"Can you provide me with a list of hotels available for booking in Shanghai, China, from December 21, 2025, to April 11, 2026?\"'},\n",
       " {'available': True,\n",
       "  'query': ' Could you please provide me with a list of hotels available in Delhi from August 8, 2025, to October 19, 2025? Thank you.'},\n",
       " {'available': True,\n",
       "  'query': ' \"Hello, I\\'m looking for hotel availability in Mumbai, India from July 16 to July 21, 2026. Could you please provide some options with their respective rates and amenities?\"'},\n",
       " {'available': True,\n",
       "  'query': \" Could you please provide a list of hotels available in Kolkata between May 11, 2026, and June 10, 2026? I'm interested in knowing the room rates and amenities for each option.\"},\n",
       " {'available': True,\n",
       "  'query': ' \"Can you help me find hotels in Tokyo, Japan available between May 29, 2026 and June 10, 2026?\"'},\n",
       " {'available': True,\n",
       "  'query': ' \"Hey there! I\\'m looking for hotels available in Kolkata between July 24 and 26, 2026. Could you please provide a list of options along with the room rates?\"'},\n",
       " {'available': True,\n",
       "  'query': ' Here are some hotel options available in Seoul, South Korea from May 7, 2026, to June 22, 2026:\\n\\n1. Grand Hyatt Seoul - A luxury hotel with modern rooms and a rooftop bar offering panoramic city views.\\n\\n2. The Shilla Seoul - A prestigious 5-star property featuring an extensive spa, gourmet dining options, and elegant rooms.\\n\\n3. Park Hyatt Seoul - An upscale hotel with comfortable rooms, a heated outdoor pool, and a popular Italian restaurant.\\n\\n4. InterContinental Seoul COEX - A sleek, contemporary hotel located near shopping centers and entertainment venues.\\n\\n5. Four Seasons Hotel Seoul - A luxurious property offering spacious accommodations, a rooftop garden, and fine dining experiences.\\n\\n6. Sheraton Grande Walkerhill Seoul - A high-end resort set in lush surroundings with an extensive spa, multiple restaurants, and a golf course.\\n\\n7. Lotte Hotel Seoul - A 5-star hotel featuring various dining options, a fitness center, indoor pool, and a luxurious spa.\\n\\n8. The Westin Chosun Seoul - A historic, elegant property offering comfortable rooms, a rooftop garden, and fine dining experiences.\\n\\n9. JW Marriott Dongdaemun Square Seoul - A modern hotel with stylish accommodations, a popular restaurant, and easy access to shopping areas.\\n\\n10. The Westin Seoul - A contemporary hotel featuring various dining options, a fitness center, indoor pool, and a luxurious spa.'},\n",
       " {'available': True,\n",
       "  'query': ' \"Hey there! I\\'m looking to book a hotel stay in Jakarta, Indonesia from November 12, 2025 to December 23, 2025. Can you please provide me with some options for hotels that are available during this period?\"'},\n",
       " {'available': True,\n",
       "  'query': ' \"Hi, I\\'m looking for available hotels in Sao Paulo for a stay from May 8, 2026, to July 8, 2026. Could you please provide me with some options?\"'},\n",
       " {'available': True,\n",
       "  'query': \" Hello! I'm looking for hotels available in Sao Paulo from September 30, 2025, to October 29, 2025. Could you please provide some options for me? Thanks!\"},\n",
       " {'available': True,\n",
       "  'query': ' \"Can you please provide me with a list of hotels available in Kolkata from July 20, 2026, to July 29, 2026? Also, could you provide some details about the amenities and prices for each option?\"'},\n",
       " {'available': True,\n",
       "  'query': ' Here are some hotel options in Cairo for your stay from May 3rd to May 4th, 2026:\\n\\n1. Four Seasons Hotel Cairo at Nile Plaza\\n2. Fairmont Nile City\\n3. Kempinski Hotel Cairo\\n4. The Ritz-Carlton, Cairo\\n5. InterContinental Cairo Semiramis\\n6. Sofitel El Gezirah, Autograph Collection\\n7. JW Marriott Hotel Cairo\\n8. Steigenberger Hotel El Tahrir Cairo\\n9. Movenpick Media City Cairo\\n10. Hyatt Regency Cairo Corniche'},\n",
       " {'available': True,\n",
       "  'query': ' \"Hey there! I\\'m looking for hotel options in New York City from July 4, 2026, to July 22, 2026. Could you please provide a list of available hotels along with their rates during that period?\"'},\n",
       " {'available': True,\n",
       "  'query': \" Could you please provide me with a list of available hotels in Mexico City between December 7, 2025, and December 13, 2025? I'm interested in knowing the room rates for each option as well. Thank you!\"},\n",
       " {'available': True,\n",
       "  'query': \" Could you please provide me with a list of hotels available in Karachi, Pakistan, between September 12, 2025, and October 7, 2025? I'd appreciate details such as hotel name, star rating, average nightly rate, and any special offers or amenities. Thank you!\"},\n",
       " {'available': True,\n",
       "  'query': ' \"Can you provide a list of hotels available for booking in Dhaka, Bangladesh from June 26, 2026 to July 16, 2026?\"'},\n",
       " {'available': True,\n",
       "  'query': ' Are there any hotels available for booking in Mexico City from May 18, 2026 to June 11, 2026? If so, could you please provide a list of some options along with their prices and amenities? Thank you.'},\n",
       " {'available': True,\n",
       "  'query': ' Can you provide me with a list of hotels available in Tokyo from November 24, 2025, to July 19, 2026?'},\n",
       " {'available': True,\n",
       "  'query': ' \"Hi there! I\\'m looking to book a hotel stay in Bangkok from October 1, 2025, to November 13, 2025. Can you provide me with some options for hotels available during this period?\"'},\n",
       " {'available': True,\n",
       "  'query': \" Hello! I'm looking for available hotels in Shanghai from March 20, 2026, to June 13, 2026. Can you provide me with a list of options and any special offers or discounts that might be applicable during this period? Thank you!\"},\n",
       " {'available': True,\n",
       "  'query': ' \"Hey there, I\\'m looking to book a hotel stay in Guangzhou, China, from February 28, 2026, to July 27, 2026. Can you please provide me with some hotel options that are available during this period?\"'},\n",
       " {'available': True,\n",
       "  'query': \" Could you please provide a list of hotels available in Seoul, South Korea between May 15, 2026, and June 6, 2026? I'd appreciate it if you could also include the hotel ratings, prices, and any special offers or amenities.\"},\n",
       " {'available': True,\n",
       "  'query': ' \"Hey there! I\\'m looking for hotels in Beijing, China, from January 20, 2026, to April 12, 2026. Could you please provide me with some options and their rates?\"'},\n",
       " {'available': True,\n",
       "  'query': ' \"Hi there! Could you please provide a list of hotels available in Manila, Philippines from June 18, 2026 to July 8, 2026? I\\'m interested in knowing the hotel names, amenities, and room rates for each option.\"'},\n",
       " {'available': True,\n",
       "  'query': ' \"Hey there! I\\'m looking for hotel options in Cairo from October 9, 2025, to October 17, 2025. Could you please provide a list of available accommodations?\"'},\n",
       " {'available': False,\n",
       "  'query': \" Could you please provide a list of hotels available for booking in Keokuk, Iowa, from May 16, 2026, to May 24, 2026? I'm looking forward to your recommendations.\"},\n",
       " {'available': False,\n",
       "  'query': ' \"Hey there, I\\'m looking for hotel accommodations in Los Angeles from November 22, 2025, to July 4, 2026. Can you provide me with some options for a comfortable and convenient stay during this period?\"'},\n",
       " {'available': True,\n",
       "  'query': ' \"Can you help me find some hotels in Seoul, South Korea, available between November 23, 2025, and June 18, 2026?\"'},\n",
       " {'available': True,\n",
       "  'query': ' \"Hello, I\\'m looking for hotels in Delhi available between October 15, 2025, and March 19, 2026. Could you please provide me with some options?\"'},\n",
       " {'available': True,\n",
       "  'query': \" Hello, I'm looking for hotels available in Mumbai for stays between June 14, 2026, and June 15, 2026. Could you please provide some options for me? Thank you!\"},\n",
       " {'available': True,\n",
       "  'query': ' \"Hey there! I\\'m looking for available hotels in Delhi between November 1, 2025, and April 14, 2026. Could you please provide a list of options with their rates and amenities?\"'},\n",
       " {'available': True,\n",
       "  'query': ' \"Hello, could you please provide me with a list of hotels available in Shanghai between August 29, 2025, and April 18, 2026?\"'},\n",
       " {'available': True,\n",
       "  'query': ' \"Hey there! I\\'m looking to book a hotel stay in Manila from September 8, 2025, to May 23, 2026. Can you please provide me with some options for hotels available during this period?\"'},\n",
       " {'available': False,\n",
       "  'query': ' \"Can you please provide me with a list of hotels available for booking in Paris from November 28, 2025, to May 8, 2026?\"'},\n",
       " {'available': True,\n",
       "  'query': ' \"Can you provide me with a list of hotels available for booking in Shenzhen from September 28, 2025, to July 31, 2026?\"'},\n",
       " {'available': False,\n",
       "  'query': ' \"Hey there! I\\'m looking for hotels in Paris, France for a stay from July 23, 2026, to July 30, 2026. Can you please provide me with some options and their rates?\"'},\n",
       " {'available': True,\n",
       "  'query': ' Could you please provide me with a list of hotels available in Sao Paulo from September 8, 2025, to October 11, 2025? Also, it would be helpful if I could see the room rates for each hotel. Thank you!'},\n",
       " {'available': True,\n",
       "  'query': ' Can you please provide me with a list of hotels available in Kolkata, India, between January 31, 2026, and April 7, 2026? Also, kindly include the room rates for each option.'},\n",
       " {'available': True,\n",
       "  'query': ' Can you provide me with a list of hotels available in Cairo on June 12, 2026? Please include the hotel name, rating, and average price per night. Thank you!'},\n",
       " {'available': True,\n",
       "  'query': ' \"Can you provide me with a list of hotels available in Delhi for stays from July 25, 2026, to July 31, 2026?\"'},\n",
       " {'available': True,\n",
       "  'query': ' Here are some suggestions for hotels available in Moscow from June 28, 2026 to June 30, 2026:\\n\\n1. Four Seasons Hotel Moscow - A luxurious option with panoramic city views and convenient location near Red Square.\\n2. Ritz-Carlton, Moscow - Offers elegant accommodations and a rooftop restaurant with stunning views of the city.\\n3. Hotel National - A historic property located near the Bolshoi Theater with an Art Nouveau style.\\n4. Hotel Metropol - A five-star hotel situated in the heart of Moscow, close to the Kremlin and Red Square.\\n5. The St. Regis Moscow Nikolskaya - A luxury hotel offering elegant accommodations and personalized service.'},\n",
       " {'available': True,\n",
       "  'query': ' \"Hey there! I\\'m looking for a hotel stay in Moscow on July 29, 2026. Can you provide me with some options for a single night booking?\"'},\n",
       " {'available': True,\n",
       "  'query': ' \"Can you provide a list of hotels available in Delhi, India from November 16, 2025 to May 30, 2026?\"'},\n",
       " {'available': False,\n",
       "  'query': ' \"Hi there! I\\'m looking for available hotels in Keokuk from April 27, 2026, to June 3, 2026. Could you please provide some options for me?\"'},\n",
       " {'available': False,\n",
       "  'query': ' Could you please provide me with a list of hotels available in Cape Town, South Africa from February 19, 2026, to March 9, 2026? Also, kindly include any special offers or discounts for this duration.'},\n",
       " {'available': False,\n",
       "  'query': ' Can you provide me with a list of hotels available for stay in Keokuk, Iowa, between November 21, 2025, and January 16, 2026?'},\n",
       " {'available': True,\n",
       "  'query': ' Can you please provide me with a list of hotels available in Delhi from March 27, 2026, to July 14, 2026? Thanks!'},\n",
       " {'available': True,\n",
       "  'query': ' \"Hello, I\\'m looking for hotels available for stay in Jakarta from April 23, 2026, to July 30, 2026. Could you please provide a list of options along with the rates and amenities?\"'},\n",
       " {'available': False,\n",
       "  'query': ' \"Hi, I\\'m looking for hotels available in Paris between May 20, 2026 and July 30, 2026. Could you please provide a list of options with their respective prices and amenities?\"'},\n",
       " {'available': True,\n",
       "  'query': ' \"Hi there! I\\'m looking for hotel options in Bangkok from March 8, 2026, to April 7, 2026. Could you please provide a list of hotels along with their rates and amenities during this period?\"'},\n",
       " {'available': True,\n",
       "  'query': ' \"Can you please provide a list of hotels available for booking in Kolkata from March 20, 2026 to June 28, 2026?\"'},\n",
       " {'available': True,\n",
       "  'query': ' Can you provide me with a list of hotels available for booking in Guangzhou, China, between May 10, 2026, and June 21, 2026? Additionally, could you please specify the room rates and any included amenities for each hotel?'},\n",
       " {'available': True,\n",
       "  'query': ' \"Hey there! I\\'m looking for hotels available in Bangkok, Thailand, from April 9 to May 5, 2026. Could you please provide some options along with their rates and amenities?\"'},\n",
       " {'available': True,\n",
       "  'query': \" Could you please provide me with a list of hotels available in Mumbai between February 9, 2026, and April 3, 2026? I'm looking for any options that may be suitable for a stay.\"},\n",
       " {'available': True,\n",
       "  'query': ' \"Hey there! I\\'m looking to book a hotel stay in Jakarta from October 27, 2025, to November 26, 2025. Could you please provide me with some options for hotels available during that period?\"'},\n",
       " {'available': True,\n",
       "  'query': ' \"Hello! Could you please provide a list of hotels available in Guangzhou from August 11, 2025, to September 15, 2025?\"'},\n",
       " {'available': True,\n",
       "  'query': ' \"Can you provide a list of available hotels in Moscow between April 21, 2026, and June 8, 2026?\"'},\n",
       " {'available': True,\n",
       "  'query': ' \"Hey there! Could you please provide me with some options for hotels available in Moscow from June 15, 2026, to June 20, 2026?\"'},\n",
       " {'available': False,\n",
       "  'query': ' Here are some options for hotels available in Paris from September 30, 2025, to December 20, 2025:\\n\\n1. Le Meurice - A luxury hotel located near the Louvre museum and Tuileries Garden.\\n2. Four Seasons Hotel George V - Another luxury option offering a spa, restaurant, and gardens.\\n3. Shangri-La Hotel Paris - A historic property with stunning views of the Eiffel Tower.\\n4. Hotel Plaza Athénée - A luxurious hotel known for its elegant decor and Michelin-starred restaurants.\\n5. Pullman Paris Montparnasse - A modern, high-rise hotel with panoramic views of the city.\\n6. Novotel Paris Centre Tour Eiffel - A budget-friendly option located near the Eiffel Tower.\\n7. Hotel Mercure Paris Centre Tour Eiffel - Another budget-friendly hotel near the iconic landmark.'},\n",
       " {'available': True,\n",
       "  'query': \" Here is a list of hotels available in Delhi from July 12, 2026, to July 27, 2026. Can you provide me with some options?\\n\\n1. The Leela Palace New Delhi\\n2. The Oberoi, New Delhi\\n3. ITC Maurya, a Luxury Collection Hotel, New Delhi\\n4. Shangri-La's - Eros Hotel, New Delhi\\n5. Taj Palace Hotel, New Delhi\\n6. JW Marriott Hotel New Delhi Aerocity\\n7. The Lalit New Delhi\\n8. Hyatt Regency Delhi\\n9. The Park New Delhi\\n10. Pullman New Delhi Aerocity\\n\\nPlease let me know if you need more information on any of these hotels or if you would like to see additional options.\"},\n",
       " {'available': True,\n",
       "  'query': \" Hello, I'm looking for hotels in Jakarta, Indonesia, for a stay from October 31, 2025, to May 6, 2026. Could you please provide some options and their rates? Thank you!\"},\n",
       " {'available': True,\n",
       "  'query': ' Could you please provide me with a list of hotels available in New York from February 20, 2026, to June 2, 2026? Thank you.'},\n",
       " {'available': True,\n",
       "  'query': ' Here are some options for hotels available in Mumbai, India from April 4, 2026 to July 8, 2026:\\n\\n1. Taj Mahal Palace Mumbai - Luxury hotel located near the Gateway of India.\\n2. The Leela Mumbai - Luxury beachfront hotel in Bandra Kurla Complex.\\n3. Four Seasons Hotel Mumbai - Luxury hotel with views of the Arabian Sea.\\n4. Trident Nariman Point - Upscale hotel with rooftop pool and fitness center.\\n5. ITC Maratha, Mumbai - Luxury hotel offering spacious rooms and excellent service.\\n6. Grand Hyatt Mumbai - Modern luxury hotel with multiple dining options.\\n7. St. Regis Mumbai - Luxurious hotel with personal butler service.\\n8. The Westin Mumbai Garden City - Contemporary hotel with a rooftop bar and pool.\\n9. The Oberoi, Mumbai - Upscale hotel offering exceptional hospitality.\\n10. The Ritz-Carlton, Mumbai - Luxury hotel with stunning views of the Arabian Sea.'}]"
      ]
     },
     "execution_count": 10,
     "metadata": {},
     "output_type": "execute_result"
    }
   ],
   "source": [
    "user_queries"
   ]
  },
  {
   "cell_type": "markdown",
   "id": "a44ae6ce-17a4-4472-878c-70239c191781",
   "metadata": {},
   "source": [
    "Invalid queries with missing dates"
   ]
  },
  {
   "cell_type": "code",
   "execution_count": 11,
   "id": "997a10fc-46b1-452a-bb00-0b0010bf6f7b",
   "metadata": {},
   "outputs": [
    {
     "name": "stderr",
     "output_type": "stream",
     "text": [
      "100%|███████████████████████████████████████████| 64/64 [00:48<00:00,  1.31it/s]\n"
     ]
    }
   ],
   "source": [
    "%%chime\n",
    "for _ in tqdm(range(64)):\n",
    "    city = random.choice(cities)\n",
    "    user_queries.append(\n",
    "        {\n",
    "            'available': city in existing_cities,\n",
    "            'query': generate_query(f'Inquire about hotels available in {city}')\n",
    "        }\n",
    "    )"
   ]
  },
  {
   "cell_type": "markdown",
   "id": "db4dc50d-1db4-445c-acf0-bfafb324f1c4",
   "metadata": {},
   "source": [
    "Invalid queries with missing checkout date"
   ]
  },
  {
   "cell_type": "code",
   "execution_count": 12,
   "id": "09d4d82b-c2c4-4daa-830e-7b2abb37ab73",
   "metadata": {},
   "outputs": [
    {
     "name": "stderr",
     "output_type": "stream",
     "text": [
      "100%|███████████████████████████████████████████| 64/64 [01:19<00:00,  1.24s/it]\n"
     ]
    }
   ],
   "source": [
    "%%chime\n",
    "for _ in tqdm(range(64)):\n",
    "    city = random.choice(cities)\n",
    "    check_in, check_out = random_stay()\n",
    "    user_queries.append(\n",
    "        {\n",
    "            'available': city in existing_cities,\n",
    "            'query': generate_query(f'Inquire about hotels available in {city} after {check_in}')\n",
    "        }\n",
    "    )"
   ]
  },
  {
   "cell_type": "markdown",
   "id": "8f02ee08-510c-4c5b-80aa-55062a49439c",
   "metadata": {},
   "source": [
    "Valid booking requests"
   ]
  },
  {
   "cell_type": "code",
   "execution_count": 13,
   "id": "c449cd44-8d65-455a-b074-65ab2d1ee222",
   "metadata": {},
   "outputs": [
    {
     "name": "stderr",
     "output_type": "stream",
     "text": [
      "100%|█████████████████████████████████████████| 128/128 [04:37<00:00,  2.17s/it]\n"
     ]
    }
   ],
   "source": [
    "for _ in tqdm(range(128)):\n",
    "    city = random.choice(cities)\n",
    "    hotel = random.choice(hotels)\n",
    "    check_in, check_out = random_stay()\n",
    "    user_queries.append(\n",
    "        {\n",
    "            'available': len(hotels_df.query('city == @city & name == @hotel')) > 0,\n",
    "            'query': generate_query(f'Write a request to book a room in {hotel} hotel, {city}, from {check_in} to {check_out}')\n",
    "        }\n",
    "    )"
   ]
  },
  {
   "cell_type": "markdown",
   "id": "8f97ac9a-dd01-4ae2-a53b-9d7cff1a9d92",
   "metadata": {},
   "source": [
    "Invalid booking request with missing dates"
   ]
  },
  {
   "cell_type": "code",
   "execution_count": 14,
   "id": "134600da-9365-429a-8d46-e3e090e90e46",
   "metadata": {
    "scrolled": true
   },
   "outputs": [
    {
     "name": "stderr",
     "output_type": "stream",
     "text": [
      "100%|███████████████████████████████████████████| 32/32 [00:59<00:00,  1.87s/it]\n"
     ]
    }
   ],
   "source": [
    "for _ in tqdm(range(32)):\n",
    "    city = random.choice(cities)\n",
    "    hotel = random.choice(hotels)\n",
    "    user_queries.append(\n",
    "        {\n",
    "            'available': len(hotels_df.query('city == @city & name == @hotel')) > 0,\n",
    "            'query': generate_query(f'Write a request to book a room in {hotel} hotel, {city}')\n",
    "        }\n",
    "    )"
   ]
  },
  {
   "cell_type": "markdown",
   "id": "6ea4c82a-2964-4575-8c65-79435ad7d643",
   "metadata": {},
   "source": [
    "Invalid booking request with missing hotel names"
   ]
  },
  {
   "cell_type": "code",
   "execution_count": 15,
   "id": "6be0a986-3880-4d63-9f94-e147ba983f93",
   "metadata": {},
   "outputs": [
    {
     "name": "stderr",
     "output_type": "stream",
     "text": [
      "100%|███████████████████████████████████████████| 32/32 [00:58<00:00,  1.83s/it]\n"
     ]
    }
   ],
   "source": [
    "for _ in tqdm(range(32)):\n",
    "    city = random.choice(cities)\n",
    "    check_in, check_out = random_stay()\n",
    "    user_queries.append(\n",
    "        {\n",
    "            'available': len(hotels_df.query('city == @city & name == @hotel')) > 0,\n",
    "            'query': generate_query(f'Write a request to book a room in a hotel in {city} from {check_in} to {check_out}')\n",
    "        }\n",
    "    )"
   ]
  },
  {
   "cell_type": "markdown",
   "id": "ca194a91-97b7-4719-881b-e3df85875c21",
   "metadata": {},
   "source": [
    "Invalid booking request with missing cities"
   ]
  },
  {
   "cell_type": "code",
   "execution_count": 16,
   "id": "002d446b-ea88-4603-9f1e-4b1bb61887b5",
   "metadata": {},
   "outputs": [
    {
     "name": "stderr",
     "output_type": "stream",
     "text": [
      "100%|███████████████████████████████████████████| 32/32 [00:56<00:00,  1.77s/it]\n"
     ]
    }
   ],
   "source": [
    "for _ in tqdm(range(32)):\n",
    "    hotel = random.choice(hotels)\n",
    "    check_in, check_out = random_stay()\n",
    "    user_queries.append(\n",
    "        {\n",
    "            'available': len(hotels_df.query('city == @city & name == @hotel')) > 0,\n",
    "            'query': generate_query(f'Write a request to book a room in {hotel} hotel from {check_in} to {check_out}')\n",
    "        }\n",
    "    )"
   ]
  },
  {
   "cell_type": "markdown",
   "id": "8e502540-d0cf-45e0-8082-1ed9ce49691d",
   "metadata": {},
   "source": [
    "Irrelevant questions"
   ]
  },
  {
   "cell_type": "code",
   "execution_count": 17,
   "id": "442502ac-c6b3-4e89-b2b6-9149194e6d5d",
   "metadata": {},
   "outputs": [],
   "source": [
    "def generate_irrelevant_query() -> str:\n",
    "    response: ChatResponse = chat(\n",
    "        'mistral',\n",
    "        messages=[\n",
    "            {'role': 'user', 'content': 'Write a question disrelated to hotel booking'}\n",
    "        ],\n",
    "        stream=False,\n",
    "        options={'temperature': 1.0}\n",
    "    )\n",
    "    return response.message.content"
   ]
  },
  {
   "cell_type": "code",
   "execution_count": 18,
   "id": "a4b37d1e-8ea3-4ca3-8ba1-06d65e40b761",
   "metadata": {},
   "outputs": [
    {
     "name": "stderr",
     "output_type": "stream",
     "text": [
      "100%|███████████████████████████████████████████| 32/32 [00:37<00:00,  1.18s/it]\n"
     ]
    }
   ],
   "source": [
    "for _ in tqdm(range(32)):\n",
    "    user_queries.append(\n",
    "        {\n",
    "            'available': False,\n",
    "            'query': generate_irrelevant_query()\n",
    "        }\n",
    "    )"
   ]
  },
  {
   "cell_type": "code",
   "execution_count": 21,
   "id": "2d6edae6-d745-4b79-a2f6-01d52293fc35",
   "metadata": {},
   "outputs": [
    {
     "data": {
      "text/html": [
       "<div>\n",
       "<style scoped>\n",
       "    .dataframe tbody tr th:only-of-type {\n",
       "        vertical-align: middle;\n",
       "    }\n",
       "\n",
       "    .dataframe tbody tr th {\n",
       "        vertical-align: top;\n",
       "    }\n",
       "\n",
       "    .dataframe thead th {\n",
       "        text-align: right;\n",
       "    }\n",
       "</style>\n",
       "<table border=\"1\" class=\"dataframe\">\n",
       "  <thead>\n",
       "    <tr style=\"text-align: right;\">\n",
       "      <th></th>\n",
       "      <th>available</th>\n",
       "      <th>query</th>\n",
       "    </tr>\n",
       "  </thead>\n",
       "  <tbody>\n",
       "    <tr>\n",
       "      <th>0</th>\n",
       "      <td>True</td>\n",
       "      <td>Can you provide me with a list of hotels avai...</td>\n",
       "    </tr>\n",
       "    <tr>\n",
       "      <th>1</th>\n",
       "      <td>True</td>\n",
       "      <td>Could you please provide a list of hotels ava...</td>\n",
       "    </tr>\n",
       "    <tr>\n",
       "      <th>2</th>\n",
       "      <td>True</td>\n",
       "      <td>\"Hey there, could you please provide me with ...</td>\n",
       "    </tr>\n",
       "    <tr>\n",
       "      <th>3</th>\n",
       "      <td>True</td>\n",
       "      <td>\"Can you provide a list of hotels available f...</td>\n",
       "    </tr>\n",
       "    <tr>\n",
       "      <th>4</th>\n",
       "      <td>True</td>\n",
       "      <td>\"Hi there! I'm looking for hotel availability...</td>\n",
       "    </tr>\n",
       "    <tr>\n",
       "      <th>...</th>\n",
       "      <td>...</td>\n",
       "      <td>...</td>\n",
       "    </tr>\n",
       "    <tr>\n",
       "      <th>507</th>\n",
       "      <td>False</td>\n",
       "      <td>Sure! Here's a question that is not related t...</td>\n",
       "    </tr>\n",
       "    <tr>\n",
       "      <th>508</th>\n",
       "      <td>False</td>\n",
       "      <td>Sure! Here's a question that is not related t...</td>\n",
       "    </tr>\n",
       "    <tr>\n",
       "      <th>509</th>\n",
       "      <td>False</td>\n",
       "      <td>Sure! Here's an unrelated question: \"If you c...</td>\n",
       "    </tr>\n",
       "    <tr>\n",
       "      <th>510</th>\n",
       "      <td>False</td>\n",
       "      <td>What are some creative ways businesses can us...</td>\n",
       "    </tr>\n",
       "    <tr>\n",
       "      <th>511</th>\n",
       "      <td>False</td>\n",
       "      <td>Sure! Here's an interesting question:\\n\\n\"Wha...</td>\n",
       "    </tr>\n",
       "  </tbody>\n",
       "</table>\n",
       "<p>512 rows × 2 columns</p>\n",
       "</div>"
      ],
      "text/plain": [
       "     available                                              query\n",
       "0         True   Can you provide me with a list of hotels avai...\n",
       "1         True   Could you please provide a list of hotels ava...\n",
       "2         True   \"Hey there, could you please provide me with ...\n",
       "3         True   \"Can you provide a list of hotels available f...\n",
       "4         True   \"Hi there! I'm looking for hotel availability...\n",
       "..         ...                                                ...\n",
       "507      False   Sure! Here's a question that is not related t...\n",
       "508      False   Sure! Here's a question that is not related t...\n",
       "509      False   Sure! Here's an unrelated question: \"If you c...\n",
       "510      False   What are some creative ways businesses can us...\n",
       "511      False   Sure! Here's an interesting question:\\n\\n\"Wha...\n",
       "\n",
       "[512 rows x 2 columns]"
      ]
     },
     "execution_count": 21,
     "metadata": {},
     "output_type": "execute_result"
    }
   ],
   "source": [
    "df = pd.DataFrame.from_records(user_queries)\n",
    "df"
   ]
  },
  {
   "cell_type": "code",
   "execution_count": 22,
   "id": "de7c15f9-8a28-44d9-8790-be78fdc197fd",
   "metadata": {},
   "outputs": [],
   "source": [
    "df.to_excel('dataset_raw.xlsx', index=False)"
   ]
  },
  {
   "cell_type": "markdown",
   "id": "f344878d-75f7-48a6-a816-02954a7df456",
   "metadata": {},
   "source": [
    "## Generate more booking requests\n",
    "Random combinations of city and hotel names above resulted in mostly unavailable options. Need more valid valid queries"
   ]
  },
  {
   "cell_type": "code",
   "execution_count": 26,
   "id": "2bf5c3c9-dc32-402e-aaa8-4f103bf665d8",
   "metadata": {},
   "outputs": [
    {
     "name": "stderr",
     "output_type": "stream",
     "text": [
      "100%|█████████████████████████████████████████| 128/128 [04:54<00:00,  2.30s/it]\n"
     ]
    }
   ],
   "source": [
    "extra_queries = []\n",
    "for _ in tqdm(range(128)):\n",
    "    index = random.randint(0, len(hotels_df) - 1)\n",
    "    hotel = hotels_df.at[index, 'name']\n",
    "    city = hotels_df.at[index, 'city']\n",
    "    check_in, check_out = random_stay()\n",
    "    extra_queries.append(\n",
    "        {\n",
    "            'available': True,\n",
    "            'query': generate_query(f'Write a request to book a room in {hotel} hotel, {city}, from {check_in} to {check_out}')\n",
    "        }\n",
    "    )"
   ]
  },
  {
   "cell_type": "code",
   "execution_count": 28,
   "id": "97dde23a-5761-4556-9bae-ad6d9e260b0c",
   "metadata": {},
   "outputs": [],
   "source": [
    "addendum = pd.DataFrame.from_records(extra_queries)"
   ]
  },
  {
   "cell_type": "code",
   "execution_count": 29,
   "id": "2721b87b-ed21-47be-b3d7-6287dde02de6",
   "metadata": {},
   "outputs": [
    {
     "data": {
      "text/html": [
       "<div>\n",
       "<style scoped>\n",
       "    .dataframe tbody tr th:only-of-type {\n",
       "        vertical-align: middle;\n",
       "    }\n",
       "\n",
       "    .dataframe tbody tr th {\n",
       "        vertical-align: top;\n",
       "    }\n",
       "\n",
       "    .dataframe thead th {\n",
       "        text-align: right;\n",
       "    }\n",
       "</style>\n",
       "<table border=\"1\" class=\"dataframe\">\n",
       "  <thead>\n",
       "    <tr style=\"text-align: right;\">\n",
       "      <th></th>\n",
       "      <th>available</th>\n",
       "      <th>query</th>\n",
       "    </tr>\n",
       "  </thead>\n",
       "  <tbody>\n",
       "    <tr>\n",
       "      <th>0</th>\n",
       "      <td>True</td>\n",
       "      <td>\"Hi there! I'm looking to book a stay at the ...</td>\n",
       "    </tr>\n",
       "    <tr>\n",
       "      <th>1</th>\n",
       "      <td>True</td>\n",
       "      <td>\"Hey there! I'd like to make a reservation fo...</td>\n",
       "    </tr>\n",
       "    <tr>\n",
       "      <th>2</th>\n",
       "      <td>True</td>\n",
       "      <td>Subject: Room Reservation Request - April 202...</td>\n",
       "    </tr>\n",
       "    <tr>\n",
       "      <th>3</th>\n",
       "      <td>True</td>\n",
       "      <td>Hello! I'm interested in booking a stay at th...</td>\n",
       "    </tr>\n",
       "    <tr>\n",
       "      <th>4</th>\n",
       "      <td>True</td>\n",
       "      <td>\"Hello, I'd like to make a reservation for a ...</td>\n",
       "    </tr>\n",
       "    <tr>\n",
       "      <th>...</th>\n",
       "      <td>...</td>\n",
       "      <td>...</td>\n",
       "    </tr>\n",
       "    <tr>\n",
       "      <th>123</th>\n",
       "      <td>True</td>\n",
       "      <td>Hello there! I'd like to make a reservation a...</td>\n",
       "    </tr>\n",
       "    <tr>\n",
       "      <th>124</th>\n",
       "      <td>True</td>\n",
       "      <td>Dear Hotel Reservation,\\n\\nI'd like to make a...</td>\n",
       "    </tr>\n",
       "    <tr>\n",
       "      <th>125</th>\n",
       "      <td>True</td>\n",
       "      <td>\"Hey there! I'd like to reserve a room at the...</td>\n",
       "    </tr>\n",
       "    <tr>\n",
       "      <th>126</th>\n",
       "      <td>True</td>\n",
       "      <td>Subject: Room Reservation Inquiry - Hotel Exc...</td>\n",
       "    </tr>\n",
       "    <tr>\n",
       "      <th>127</th>\n",
       "      <td>True</td>\n",
       "      <td>\"Hello, I'd like to make a reservation for a ...</td>\n",
       "    </tr>\n",
       "  </tbody>\n",
       "</table>\n",
       "<p>128 rows × 2 columns</p>\n",
       "</div>"
      ],
      "text/plain": [
       "     available                                              query\n",
       "0         True   \"Hi there! I'm looking to book a stay at the ...\n",
       "1         True   \"Hey there! I'd like to make a reservation fo...\n",
       "2         True   Subject: Room Reservation Request - April 202...\n",
       "3         True   Hello! I'm interested in booking a stay at th...\n",
       "4         True   \"Hello, I'd like to make a reservation for a ...\n",
       "..         ...                                                ...\n",
       "123       True   Hello there! I'd like to make a reservation a...\n",
       "124       True   Dear Hotel Reservation,\\n\\nI'd like to make a...\n",
       "125       True   \"Hey there! I'd like to reserve a room at the...\n",
       "126       True   Subject: Room Reservation Inquiry - Hotel Exc...\n",
       "127       True   \"Hello, I'd like to make a reservation for a ...\n",
       "\n",
       "[128 rows x 2 columns]"
      ]
     },
     "execution_count": 29,
     "metadata": {},
     "output_type": "execute_result"
    }
   ],
   "source": [
    "addendum"
   ]
  },
  {
   "cell_type": "code",
   "execution_count": 30,
   "id": "ec66322b-398e-4ee6-acd1-4e2266856477",
   "metadata": {},
   "outputs": [],
   "source": [
    "addendum.to_excel('dataset_raw_addendum.xlsx', index=False)"
   ]
  },
  {
   "cell_type": "code",
   "execution_count": null,
   "id": "8bfe90ed-28fd-4769-a9fc-85a5563b0b16",
   "metadata": {},
   "outputs": [],
   "source": []
  }
 ],
 "metadata": {
  "kernelspec": {
   "display_name": "Python 3 (ipykernel)",
   "language": "python",
   "name": "python3"
  },
  "language_info": {
   "codemirror_mode": {
    "name": "ipython",
    "version": 3
   },
   "file_extension": ".py",
   "mimetype": "text/x-python",
   "name": "python",
   "nbconvert_exporter": "python",
   "pygments_lexer": "ipython3",
   "version": "3.13.5"
  }
 },
 "nbformat": 4,
 "nbformat_minor": 5
}
