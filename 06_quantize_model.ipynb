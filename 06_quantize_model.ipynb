{
 "cells": [
  {
   "cell_type": "code",
   "execution_count": 4,
   "id": "6c53578b-3e31-4630-a939-75fa12238da6",
   "metadata": {},
   "outputs": [
    {
     "name": "stdout",
     "output_type": "stream",
     "text": [
      "The chime extension is already loaded. To reload it, use:\n",
      "  %reload_ext chime\n"
     ]
    }
   ],
   "source": [
    "import os, json\n",
    "\n",
    "import torch\n",
    "from transformers import AutoModelForCausalLM, AutoTokenizer, BitsAndBytesConfig\n",
    "from dotenv import load_dotenv\n",
    "\n",
    "%load_ext chime"
   ]
  },
  {
   "cell_type": "code",
   "execution_count": 2,
   "id": "75d13ca4-d3d8-4be3-bcbe-1d8dc5296e18",
   "metadata": {},
   "outputs": [],
   "source": [
    "load_dotenv()\n",
    "HF_TOKEN = os.getenv('HF_TOKEN')"
   ]
  },
  {
   "cell_type": "code",
   "execution_count": 5,
   "id": "0b284b28-acdc-4b9e-a60f-fea1ad2f21dc",
   "metadata": {},
   "outputs": [],
   "source": [
    "bnb_config = BitsAndBytesConfig(\n",
    "    load_in_4bit=True,\n",
    "    bnb_4bit_quant_type=\"nf4\",\n",
    "    bnb_4bit_compute_dtype=torch.float16,\n",
    "    bnb_4bit_use_double_quant=True,\n",
    ")"
   ]
  },
  {
   "cell_type": "code",
   "execution_count": 6,
   "id": "57377288-d02c-4a12-b550-49f5ad824732",
   "metadata": {},
   "outputs": [
    {
     "data": {
      "application/vnd.jupyter.widget-view+json": {
       "model_id": "fc9948aca1aa48258df367af88ded966",
       "version_major": 2,
       "version_minor": 0
      },
      "text/plain": [
       "Loading checkpoint shards:   0%|          | 0/3 [00:00<?, ?it/s]"
      ]
     },
     "metadata": {},
     "output_type": "display_data"
    }
   ],
   "source": [
    "%%chime\n",
    "model = AutoModelForCausalLM.from_pretrained(\n",
    "    \"/home/denis/Models/LLM/Mistral-7B-Instruct-v0.3/\",\n",
    "    quantization_config=bnb_config,\n",
    "    device_map=\"auto\",\n",
    "    local_files_only=True,\n",
    "    token=HF_TOKEN\n",
    ")"
   ]
  },
  {
   "cell_type": "code",
   "execution_count": 7,
   "id": "c0904939-cc2e-4e4b-becf-26f218639b7d",
   "metadata": {
    "scrolled": true
   },
   "outputs": [],
   "source": [
    "tokenizer = AutoTokenizer.from_pretrained(\"mistralai/Mistral-7B-Instruct-v0.3\")"
   ]
  },
  {
   "cell_type": "code",
   "execution_count": 8,
   "id": "e078e344-c48e-4fca-9403-856d4cc3be89",
   "metadata": {},
   "outputs": [],
   "source": [
    "if tokenizer.pad_token is None:\n",
    "    tokenizer.pad_token = tokenizer.eos_token "
   ]
  },
  {
   "cell_type": "code",
   "execution_count": 9,
   "id": "a11f3626-7ddf-4a35-9c3b-e94bc7f0eb92",
   "metadata": {},
   "outputs": [],
   "source": [
    "path = '/home/denis/Models/LLM/Mistral-7B-Instruct-v0.3_quantized_4bit/'"
   ]
  },
  {
   "cell_type": "code",
   "execution_count": 10,
   "id": "fdbdd85d-49e3-4662-b403-d50e7fa0aa1c",
   "metadata": {},
   "outputs": [],
   "source": [
    "model.save_pretrained(path)"
   ]
  },
  {
   "cell_type": "code",
   "execution_count": 11,
   "id": "b8129a3d-588b-4b98-b4ca-540604cd63b5",
   "metadata": {},
   "outputs": [
    {
     "data": {
      "text/plain": [
       "('/home/denis/Models/LLM/Mistral-7B-Instruct-v0.3_quantized_4bit/tokenizer_config.json',\n",
       " '/home/denis/Models/LLM/Mistral-7B-Instruct-v0.3_quantized_4bit/special_tokens_map.json',\n",
       " '/home/denis/Models/LLM/Mistral-7B-Instruct-v0.3_quantized_4bit/chat_template.jinja',\n",
       " '/home/denis/Models/LLM/Mistral-7B-Instruct-v0.3_quantized_4bit/tokenizer.model',\n",
       " '/home/denis/Models/LLM/Mistral-7B-Instruct-v0.3_quantized_4bit/added_tokens.json',\n",
       " '/home/denis/Models/LLM/Mistral-7B-Instruct-v0.3_quantized_4bit/tokenizer.json')"
      ]
     },
     "execution_count": 11,
     "metadata": {},
     "output_type": "execute_result"
    }
   ],
   "source": [
    "tokenizer.save_pretrained(path)"
   ]
  },
  {
   "cell_type": "code",
   "execution_count": 12,
   "id": "c315f0c6-6519-40ce-9b16-705316b9fc7a",
   "metadata": {},
   "outputs": [],
   "source": [
    "with open(os.path.join(path, \"quant_config.json\"), \"w\") as f:\n",
    "    json.dump(bnb_config.to_dict(), f)"
   ]
  }
 ],
 "metadata": {
  "kernelspec": {
   "display_name": "Python 3 (ipykernel)",
   "language": "python",
   "name": "python3"
  },
  "language_info": {
   "codemirror_mode": {
    "name": "ipython",
    "version": 3
   },
   "file_extension": ".py",
   "mimetype": "text/x-python",
   "name": "python",
   "nbconvert_exporter": "python",
   "pygments_lexer": "ipython3",
   "version": "3.13.5"
  }
 },
 "nbformat": 4,
 "nbformat_minor": 5
}
