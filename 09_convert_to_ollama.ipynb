{
 "cells": [
  {
   "cell_type": "markdown",
   "id": "6a8a123e-00fe-48a7-a4c3-f98118d9a574",
   "metadata": {},
   "source": [
    "# Convert the LoRA adapter from the 1st-stage fine-tuning to an Ollama model for testing"
   ]
  },
  {
   "cell_type": "code",
   "execution_count": 1,
   "id": "898ce86e-716d-4af2-9764-39aaa1deb9e7",
   "metadata": {},
   "outputs": [],
   "source": [
    "import os, json\n",
    "\n",
    "import torch\n",
    "from peft import PeftModel\n",
    "from transformers import AutoModelForCausalLM, AutoTokenizer, BitsAndBytesConfig"
   ]
  },
  {
   "cell_type": "markdown",
   "id": "68bd2819-0dc6-45a2-a5b0-19c6cbc57442",
   "metadata": {},
   "source": [
    "## Merge the base model and the adapter"
   ]
  },
  {
   "cell_type": "code",
   "execution_count": 2,
   "id": "182bb02b-bb64-4b11-89fd-607a98bca45f",
   "metadata": {},
   "outputs": [],
   "source": [
    "model_path = '/home/denis/Models/LLM/Mistral-7B-Instruct-v0.3/'"
   ]
  },
  {
   "cell_type": "code",
   "execution_count": 3,
   "id": "1d4edc2d-8ac2-4a8d-9f2c-57287321a627",
   "metadata": {},
   "outputs": [],
   "source": [
    "merged_path = '/home/denis/MyCode/PyCharm/TestBooking/model/fine_tuned_1st_stage/merged_model_adapter/'"
   ]
  },
  {
   "cell_type": "code",
   "execution_count": 3,
   "id": "68f3b3d4-c442-44d6-bf4d-d1b2f81328d8",
   "metadata": {},
   "outputs": [
    {
     "data": {
      "application/vnd.jupyter.widget-view+json": {
       "model_id": "84a089f0be8b4387a4b8b4449a56c83b",
       "version_major": 2,
       "version_minor": 0
      },
      "text/plain": [
       "Loading checkpoint shards:   0%|          | 0/3 [00:00<?, ?it/s]"
      ]
     },
     "metadata": {},
     "output_type": "display_data"
    }
   ],
   "source": [
    "model = AutoModelForCausalLM.from_pretrained(\n",
    "    model_path,\n",
    "    device_map=\"cpu\",\n",
    "    torch_dtype=torch.float16,\n",
    "    local_files_only=True\n",
    ")"
   ]
  },
  {
   "cell_type": "code",
   "execution_count": 4,
   "id": "1bb7b699-7597-496d-b2ae-c3572c29608e",
   "metadata": {},
   "outputs": [],
   "source": [
    "lora_adapter_path = '/home/denis/MyCode/PyCharm/TestBooking/model/fine_tuned_1st_stage/adapter/'"
   ]
  },
  {
   "cell_type": "code",
   "execution_count": 5,
   "id": "47616635-6099-48ec-820e-38bec326523f",
   "metadata": {},
   "outputs": [],
   "source": [
    "model = PeftModel.from_pretrained(model, lora_adapter_path)"
   ]
  },
  {
   "cell_type": "code",
   "execution_count": 6,
   "id": "ae5538ff-fa57-46f0-9f50-b0b3d5d50a21",
   "metadata": {},
   "outputs": [],
   "source": [
    "model = model.merge_and_unload()"
   ]
  },
  {
   "cell_type": "code",
   "execution_count": 7,
   "id": "bf80edbd-94d3-447a-b365-e5002a6f82e5",
   "metadata": {},
   "outputs": [],
   "source": [
    "model.save_pretrained(merged_path)"
   ]
  },
  {
   "cell_type": "code",
   "execution_count": 4,
   "id": "04dcc40d-9116-417a-9e18-a9ec02b36668",
   "metadata": {
    "scrolled": true
   },
   "outputs": [],
   "source": [
    "tokenizer = AutoTokenizer.from_pretrained(model_path)"
   ]
  },
  {
   "cell_type": "code",
   "execution_count": 5,
   "id": "764eb4c1-fc11-4a1e-852b-1d183d0c04e1",
   "metadata": {},
   "outputs": [],
   "source": [
    "if tokenizer.pad_token is None:\n",
    "    tokenizer.pad_token = tokenizer.eos_token "
   ]
  },
  {
   "cell_type": "code",
   "execution_count": 6,
   "id": "cf96de2d-b78e-41e3-8118-221597c10f70",
   "metadata": {},
   "outputs": [
    {
     "data": {
      "text/plain": [
       "('/home/denis/MyCode/PyCharm/TestBooking/model/fine_tuned_1st_stage/merged_model_adapter/tokenizer_config.json',\n",
       " '/home/denis/MyCode/PyCharm/TestBooking/model/fine_tuned_1st_stage/merged_model_adapter/special_tokens_map.json',\n",
       " '/home/denis/MyCode/PyCharm/TestBooking/model/fine_tuned_1st_stage/merged_model_adapter/chat_template.jinja',\n",
       " '/home/denis/MyCode/PyCharm/TestBooking/model/fine_tuned_1st_stage/merged_model_adapter/tokenizer.model',\n",
       " '/home/denis/MyCode/PyCharm/TestBooking/model/fine_tuned_1st_stage/merged_model_adapter/added_tokens.json',\n",
       " '/home/denis/MyCode/PyCharm/TestBooking/model/fine_tuned_1st_stage/merged_model_adapter/tokenizer.json')"
      ]
     },
     "execution_count": 6,
     "metadata": {},
     "output_type": "execute_result"
    }
   ],
   "source": [
    "tokenizer.save_pretrained(merged_path)"
   ]
  },
  {
   "cell_type": "markdown",
   "id": "206815f4-39c9-47dc-8737-b2a1c5ccbf05",
   "metadata": {},
   "source": [
    "## Convert to GGUF\n",
    "Converted with llama.cpp"
   ]
  },
  {
   "cell_type": "code",
   "execution_count": null,
   "id": "6918a6c7-4824-478d-9fce-cd8a9eaf0c9b",
   "metadata": {},
   "outputs": [],
   "source": []
  },
  {
   "cell_type": "markdown",
   "id": "118ae436-431e-4fbc-872b-5b6388d918f2",
   "metadata": {},
   "source": [
    "## Convert to Ollama\n",
    "Converted and quantized with _ollama create_"
   ]
  },
  {
   "cell_type": "code",
   "execution_count": null,
   "id": "b0e0fe3b-2353-4202-88cc-e3d50e085805",
   "metadata": {},
   "outputs": [],
   "source": []
  }
 ],
 "metadata": {
  "kernelspec": {
   "display_name": "Python 3 (ipykernel)",
   "language": "python",
   "name": "python3"
  },
  "language_info": {
   "codemirror_mode": {
    "name": "ipython",
    "version": 3
   },
   "file_extension": ".py",
   "mimetype": "text/x-python",
   "name": "python",
   "nbconvert_exporter": "python",
   "pygments_lexer": "ipython3",
   "version": "3.13.5"
  }
 },
 "nbformat": 4,
 "nbformat_minor": 5
}
